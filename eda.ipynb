{
 "cells": [
  {
   "cell_type": "code",
   "execution_count": 1,
   "id": "0197368d-2c78-478b-aac6-36db4ce36f27",
   "metadata": {},
   "outputs": [
    {
     "name": "stdout",
     "output_type": "stream",
     "text": [
      "\u001b[1m\u001b[36mms_hinds_buildings.geojson\u001b[m\u001b[m/     ms_hinds_locations.xlsx\n",
      "ms_hinds_buildings.geojson.zip  ms_hinds_parcels.ndgeojson.gz\n",
      "ms_hinds_locations.csv\n"
     ]
    }
   ],
   "source": [
    "ls data"
   ]
  },
  {
   "cell_type": "code",
   "execution_count": 2,
   "id": "9827957f-e22f-4697-9f04-2ae73bc36baa",
   "metadata": {},
   "outputs": [],
   "source": [
    "import os\n",
    "os.environ['USE_PYGEOS'] = '0'\n",
    "import geopandas as gpd\n",
    "import pandas as pd\n",
    "import duckdb"
   ]
  },
  {
   "cell_type": "code",
   "execution_count": 3,
   "id": "3189d8b9-13e7-4041-99b1-f27efe2cc041",
   "metadata": {},
   "outputs": [
    {
     "name": "stdout",
     "output_type": "stream",
     "text": [
      "Index(['source', 'parcel_id', 'parcel_lat', 'parcel_lon',\n",
      "       'parcel_building_footprint', 'parcel_building_count', 'poi_lat',\n",
      "       'poi_lon', 'secondary_lat', 'secondary_lon', 'lob_addr1', 'lob_lat',\n",
      "       'lob_lon', 'lob_zipcode', 'f_ziploc', 'f_lat', 'f_lon', 'f_city',\n",
      "       'primary_loc_id', 'f_addr1', 'f_unit', 'geometry'],\n",
      "      dtype='object')\n"
     ]
    },
    {
     "data": {
      "text/html": [
       "<div>\n",
       "<style scoped>\n",
       "    .dataframe tbody tr th:only-of-type {\n",
       "        vertical-align: middle;\n",
       "    }\n",
       "\n",
       "    .dataframe tbody tr th {\n",
       "        vertical-align: top;\n",
       "    }\n",
       "\n",
       "    .dataframe thead th {\n",
       "        text-align: right;\n",
       "    }\n",
       "</style>\n",
       "<table border=\"1\" class=\"dataframe\">\n",
       "  <thead>\n",
       "    <tr style=\"text-align: right;\">\n",
       "      <th></th>\n",
       "      <th>source</th>\n",
       "      <th>parcel_id</th>\n",
       "      <th>parcel_lat</th>\n",
       "      <th>parcel_lon</th>\n",
       "      <th>parcel_building_footprint</th>\n",
       "      <th>parcel_building_count</th>\n",
       "      <th>poi_lat</th>\n",
       "      <th>poi_lon</th>\n",
       "      <th>secondary_lat</th>\n",
       "      <th>secondary_lon</th>\n",
       "      <th>...</th>\n",
       "      <th>lob_lon</th>\n",
       "      <th>lob_zipcode</th>\n",
       "      <th>f_ziploc</th>\n",
       "      <th>f_lat</th>\n",
       "      <th>f_lon</th>\n",
       "      <th>f_city</th>\n",
       "      <th>primary_loc_id</th>\n",
       "      <th>f_addr1</th>\n",
       "      <th>f_unit</th>\n",
       "      <th>geometry</th>\n",
       "    </tr>\n",
       "  </thead>\n",
       "  <tbody>\n",
       "    <tr>\n",
       "      <th>0</th>\n",
       "      <td>POI</td>\n",
       "      <td>None</td>\n",
       "      <td>nan</td>\n",
       "      <td>nan</td>\n",
       "      <td>None</td>\n",
       "      <td>None</td>\n",
       "      <td>32.364986</td>\n",
       "      <td>-90.145943</td>\n",
       "      <td>nan</td>\n",
       "      <td>nan</td>\n",
       "      <td>...</td>\n",
       "      <td>-90.14568</td>\n",
       "      <td>39211-5404</td>\n",
       "      <td>39211</td>\n",
       "      <td>32.365143</td>\n",
       "      <td>-90.14568</td>\n",
       "      <td>Jackson</td>\n",
       "      <td>4950@@OLD CANTON@RD@&amp;&amp;39211</td>\n",
       "      <td>4950 OLD CANTON RD</td>\n",
       "      <td>nan</td>\n",
       "      <td>None</td>\n",
       "    </tr>\n",
       "    <tr>\n",
       "      <th>1</th>\n",
       "      <td>POI</td>\n",
       "      <td>None</td>\n",
       "      <td>nan</td>\n",
       "      <td>nan</td>\n",
       "      <td>None</td>\n",
       "      <td>None</td>\n",
       "      <td>32.389834</td>\n",
       "      <td>-90.110479</td>\n",
       "      <td>nan</td>\n",
       "      <td>nan</td>\n",
       "      <td>...</td>\n",
       "      <td>-90.11048</td>\n",
       "      <td>39211-2441</td>\n",
       "      <td>39211</td>\n",
       "      <td>32.389835</td>\n",
       "      <td>-90.11048</td>\n",
       "      <td>Jackson</td>\n",
       "      <td>6300@@OLD CANTON@RD@&amp;&amp;39211</td>\n",
       "      <td>6300 OLD CANTON RD</td>\n",
       "      <td>nan</td>\n",
       "      <td>None</td>\n",
       "    </tr>\n",
       "  </tbody>\n",
       "</table>\n",
       "<p>2 rows × 22 columns</p>\n",
       "</div>"
      ],
      "text/plain": [
       "  source parcel_id parcel_lat parcel_lon parcel_building_footprint  \\\n",
       "0    POI      None        nan        nan                      None   \n",
       "1    POI      None        nan        nan                      None   \n",
       "\n",
       "  parcel_building_count    poi_lat     poi_lon secondary_lat secondary_lon  \\\n",
       "0                  None  32.364986  -90.145943           nan           nan   \n",
       "1                  None  32.389834  -90.110479           nan           nan   \n",
       "\n",
       "   ...    lob_lon lob_zipcode f_ziploc      f_lat      f_lon   f_city  \\\n",
       "0  ...  -90.14568  39211-5404    39211  32.365143  -90.14568  Jackson   \n",
       "1  ...  -90.11048  39211-2441    39211  32.389835  -90.11048  Jackson   \n",
       "\n",
       "                primary_loc_id              f_addr1 f_unit geometry  \n",
       "0  4950@@OLD CANTON@RD@&&39211  4950 OLD CANTON RD     nan     None  \n",
       "1  6300@@OLD CANTON@RD@&&39211  6300 OLD CANTON RD     nan     None  \n",
       "\n",
       "[2 rows x 22 columns]"
      ]
     },
     "execution_count": 3,
     "metadata": {},
     "output_type": "execute_result"
    }
   ],
   "source": [
    "# Data Source 1\n",
    "# CSV\n",
    "# ms_hinds_locations = pd.read_csv(\"data/ms_hinds_locations.csv\")\n",
    "ms_hinds_locations = gpd.read_file(\"data/ms_hinds_locations.csv\")\n",
    "print(ms_hinds_locations.columns)\n",
    "ms_hinds_locations.head(2)"
   ]
  },
  {
   "cell_type": "code",
   "execution_count": 4,
   "id": "ee71594a-afc4-4133-a1f2-cd0fe45923e7",
   "metadata": {},
   "outputs": [
    {
     "name": "stdout",
     "output_type": "stream",
     "text": [
      "Index(['source', 'parcel_id', 'parcel_lat', 'parcel_lon',\n",
      "       'parcel_building_footprint', 'parcel_building_count', 'poi_lat',\n",
      "       'poi_lon', 'secondary_lat', 'secondary_lon', 'lob_addr1', 'lob_lat',\n",
      "       'lob_lon', 'lob_zipcode', 'f_ziploc', 'f_lat', 'f_lon', 'f_city',\n",
      "       'primary_loc_id', 'f_addr1', 'f_unit'],\n",
      "      dtype='object')\n"
     ]
    },
    {
     "data": {
      "text/html": [
       "<div>\n",
       "<style scoped>\n",
       "    .dataframe tbody tr th:only-of-type {\n",
       "        vertical-align: middle;\n",
       "    }\n",
       "\n",
       "    .dataframe tbody tr th {\n",
       "        vertical-align: top;\n",
       "    }\n",
       "\n",
       "    .dataframe thead th {\n",
       "        text-align: right;\n",
       "    }\n",
       "</style>\n",
       "<table border=\"1\" class=\"dataframe\">\n",
       "  <thead>\n",
       "    <tr style=\"text-align: right;\">\n",
       "      <th></th>\n",
       "      <th>source</th>\n",
       "      <th>parcel_id</th>\n",
       "      <th>parcel_lat</th>\n",
       "      <th>parcel_lon</th>\n",
       "      <th>parcel_building_footprint</th>\n",
       "      <th>parcel_building_count</th>\n",
       "      <th>poi_lat</th>\n",
       "      <th>poi_lon</th>\n",
       "      <th>secondary_lat</th>\n",
       "      <th>secondary_lon</th>\n",
       "      <th>...</th>\n",
       "      <th>lob_lat</th>\n",
       "      <th>lob_lon</th>\n",
       "      <th>lob_zipcode</th>\n",
       "      <th>f_ziploc</th>\n",
       "      <th>f_lat</th>\n",
       "      <th>f_lon</th>\n",
       "      <th>f_city</th>\n",
       "      <th>primary_loc_id</th>\n",
       "      <th>f_addr1</th>\n",
       "      <th>f_unit</th>\n",
       "    </tr>\n",
       "  </thead>\n",
       "  <tbody>\n",
       "    <tr>\n",
       "      <th>0</th>\n",
       "      <td>POI</td>\n",
       "      <td>None</td>\n",
       "      <td>NaN</td>\n",
       "      <td>NaN</td>\n",
       "      <td>None</td>\n",
       "      <td>None</td>\n",
       "      <td>32.364986</td>\n",
       "      <td>-90.145943</td>\n",
       "      <td>NaN</td>\n",
       "      <td>NaN</td>\n",
       "      <td>...</td>\n",
       "      <td>32.365143</td>\n",
       "      <td>-90.14568</td>\n",
       "      <td>39211-5404</td>\n",
       "      <td>39211</td>\n",
       "      <td>32.365143</td>\n",
       "      <td>-90.14568</td>\n",
       "      <td>Jackson</td>\n",
       "      <td>4950@@OLD CANTON@RD@&amp;&amp;39211</td>\n",
       "      <td>4950 OLD CANTON RD</td>\n",
       "      <td>NaN</td>\n",
       "    </tr>\n",
       "    <tr>\n",
       "      <th>1</th>\n",
       "      <td>POI</td>\n",
       "      <td>None</td>\n",
       "      <td>NaN</td>\n",
       "      <td>NaN</td>\n",
       "      <td>None</td>\n",
       "      <td>None</td>\n",
       "      <td>32.389834</td>\n",
       "      <td>-90.110479</td>\n",
       "      <td>NaN</td>\n",
       "      <td>NaN</td>\n",
       "      <td>...</td>\n",
       "      <td>32.389835</td>\n",
       "      <td>-90.11048</td>\n",
       "      <td>39211-2441</td>\n",
       "      <td>39211</td>\n",
       "      <td>32.389835</td>\n",
       "      <td>-90.11048</td>\n",
       "      <td>Jackson</td>\n",
       "      <td>6300@@OLD CANTON@RD@&amp;&amp;39211</td>\n",
       "      <td>6300 OLD CANTON RD</td>\n",
       "      <td>NaN</td>\n",
       "    </tr>\n",
       "  </tbody>\n",
       "</table>\n",
       "<p>2 rows × 21 columns</p>\n",
       "</div>"
      ],
      "text/plain": [
       "  source parcel_id  parcel_lat  parcel_lon parcel_building_footprint  \\\n",
       "0    POI      None         NaN         NaN                      None   \n",
       "1    POI      None         NaN         NaN                      None   \n",
       "\n",
       "  parcel_building_count    poi_lat    poi_lon  secondary_lat  secondary_lon  \\\n",
       "0                  None  32.364986 -90.145943            NaN            NaN   \n",
       "1                  None  32.389834 -90.110479            NaN            NaN   \n",
       "\n",
       "   ...    lob_lat   lob_lon lob_zipcode f_ziploc      f_lat     f_lon  \\\n",
       "0  ...  32.365143 -90.14568  39211-5404    39211  32.365143 -90.14568   \n",
       "1  ...  32.389835 -90.11048  39211-2441    39211  32.389835 -90.11048   \n",
       "\n",
       "    f_city               primary_loc_id             f_addr1 f_unit  \n",
       "0  Jackson  4950@@OLD CANTON@RD@&&39211  4950 OLD CANTON RD    NaN  \n",
       "1  Jackson  6300@@OLD CANTON@RD@&&39211  6300 OLD CANTON RD    NaN  \n",
       "\n",
       "[2 rows x 21 columns]"
      ]
     },
     "execution_count": 4,
     "metadata": {},
     "output_type": "execute_result"
    }
   ],
   "source": [
    "# Data Source 2\n",
    "# EXCEL\n",
    "ms_hinds_locations_xlsx = pd.read_excel(\"data/ms_hinds_locations.xlsx\")\n",
    "print(ms_hinds_locations_xlsx.columns)\n",
    "ms_hinds_locations_xlsx.head(2)"
   ]
  },
  {
   "cell_type": "code",
   "execution_count": 5,
   "id": "cf203c6e-c23e-487f-ada1-4fe46755e46a",
   "metadata": {},
   "outputs": [],
   "source": [
    "# Data Source 3\n",
    "import gzip\n",
    "with gzip.open(\"data/ms_hinds_parcels.ndgeojson.gz\", 'rb') as f_in:\n",
    "    g_parcels = gpd.read_file(f_in)\n",
    "    g_parcels.head(2)"
   ]
  },
  {
   "cell_type": "code",
   "execution_count": 6,
   "id": "6ee79318-8bdb-4a37-8ee0-faf0eccc96c0",
   "metadata": {},
   "outputs": [],
   "source": [
    "# Data Source 4\n",
    "import zipfile\n",
    "zf = zipfile.ZipFile(\"data/ms_hinds_buildings.geojson.zip\") \n",
    "# df = pd.read_csv(zf)\n",
    "# dfcsv = gpd.read_file(\"data/ms_hinds_buildings.geojson/ms_hinds_buildings_join_table.csv\")\n",
    "# dfjson = gpd.read_file(\"data/ms_hinds_buildings.geojson/ms_hinds_buildings.json\")\n",
    "\n",
    "ms_hinds_buildings = [gpd.read_file(zf.open(text_file.filename)) for text_file in zf.infolist() if text_file.filename.endswith('.json')]\n",
    "df_ms_buildings = ms_hinds_buildings[0]"
   ]
  },
  {
   "cell_type": "markdown",
   "id": "b7c53977-a965-46f1-a069-09fe1fe0d073",
   "metadata": {},
   "source": [
    "### COMPARE BUILDING DF WITH PARCELS AND EXCEL DFs "
   ]
  },
  {
   "cell_type": "code",
   "execution_count": null,
   "id": "0c05ffb5-7daf-4618-ba61-953329c3afb3",
   "metadata": {},
   "outputs": [],
   "source": [
    "print(df_ms_buildings.columns)"
   ]
  },
  {
   "cell_type": "code",
   "execution_count": null,
   "id": "97587013-c17a-4e86-84b5-955bdfe040c5",
   "metadata": {},
   "outputs": [],
   "source": [
    "df_ms_buildings.head(1)"
   ]
  },
  {
   "cell_type": "code",
   "execution_count": null,
   "id": "ffd795ed-582b-483c-93ad-26fb348001a0",
   "metadata": {},
   "outputs": [],
   "source": [
    "df_ms_buildings['geometry'].loc(0)[0]"
   ]
  },
  {
   "cell_type": "code",
   "execution_count": null,
   "id": "c77e20de-37e9-4bda-8cca-f50b840834ad",
   "metadata": {},
   "outputs": [],
   "source": [
    "ms_hinds_locations_xlsx.columns"
   ]
  },
  {
   "cell_type": "code",
   "execution_count": null,
   "id": "baff5d8b-3a75-4c8a-b69b-4d305c0799e0",
   "metadata": {},
   "outputs": [],
   "source": [
    "ms_hinds_locations.columns"
   ]
  },
  {
   "cell_type": "code",
   "execution_count": null,
   "id": "54dd50c9-4af1-481d-a869-f3780b283930",
   "metadata": {},
   "outputs": [],
   "source": [
    "g_parcel_cols = g_parcels.columns.tolist()\n",
    "print(g_parcel_cols)"
   ]
  },
  {
   "cell_type": "code",
   "execution_count": 7,
   "id": "456d86aa-5a81-4c10-9ae6-fcdaf75db306",
   "metadata": {},
   "outputs": [
    {
     "ename": "NameError",
     "evalue": "name 'g_parcel_cols' is not defined",
     "output_type": "error",
     "traceback": [
      "\u001b[0;31m---------------------------------------------------------------------------\u001b[0m",
      "\u001b[0;31mNameError\u001b[0m                                 Traceback (most recent call last)",
      "Cell \u001b[0;32mIn[7], line 1\u001b[0m\n\u001b[0;32m----> 1\u001b[0m \u001b[38;5;28mlist\u001b[39m(\u001b[38;5;28mset\u001b[39m(ms_hinds_locations\u001b[38;5;241m.\u001b[39mcolumns)\u001b[38;5;241m.\u001b[39mintersection(\u001b[43mg_parcel_cols\u001b[49m))\n",
      "\u001b[0;31mNameError\u001b[0m: name 'g_parcel_cols' is not defined"
     ]
    }
   ],
   "source": [
    "list(set(ms_hinds_locations.columns).intersection(g_parcel_cols))"
   ]
  },
  {
   "cell_type": "code",
   "execution_count": null,
   "id": "2122a775-7d58-4063-a8c3-4ee842ad0040",
   "metadata": {},
   "outputs": [],
   "source": [
    "df_ms_buildings.columns"
   ]
  },
  {
   "cell_type": "code",
   "execution_count": null,
   "id": "2cc6f8be-1b2f-4fc5-a0d2-9d32efef4681",
   "metadata": {},
   "outputs": [],
   "source": [
    "# pd.set_option('display.max_rows', None)\n",
    "# g_parcels.head(1).to_dict()\n",
    "g_parcels['geoid'].head(10).to_dict()"
   ]
  },
  {
   "cell_type": "code",
   "execution_count": null,
   "id": "d6ff248f-5320-4084-bb3c-d59107189d6c",
   "metadata": {},
   "outputs": [],
   "source": [
    "# 049650000478000000\n",
    "ms_hinds_locations[ms_hinds_locations.parcel_id == '28049']"
   ]
  },
  {
   "cell_type": "code",
   "execution_count": null,
   "id": "036bb6c3-01f1-462c-9cde-a195e2d922b0",
   "metadata": {},
   "outputs": [],
   "source": []
  },
  {
   "cell_type": "code",
   "execution_count": null,
   "id": "22d84d2d-6c8d-4512-81a4-87d6eb7a1df9",
   "metadata": {},
   "outputs": [],
   "source": [
    "ms_hinds_locations_xlsx.columns == ms_hinds_locations.columns"
   ]
  },
  {
   "cell_type": "code",
   "execution_count": null,
   "id": "d96e87bb-b43a-4587-8c7e-7ddf2bc22233",
   "metadata": {},
   "outputs": [],
   "source": [
    "ms_hinds_locations.describe()"
   ]
  },
  {
   "cell_type": "code",
   "execution_count": null,
   "id": "7be4a226-4dcd-45f2-b99d-4d1257003609",
   "metadata": {},
   "outputs": [],
   "source": [
    "ms_hinds_locations.describe() == ms_hinds_locations.describe()"
   ]
  },
  {
   "cell_type": "code",
   "execution_count": null,
   "id": "72626f0f-0068-4a57-8727-dbfda2d4d6a8",
   "metadata": {},
   "outputs": [],
   "source": [
    "ms_hinds_locations[['source', 'parcel_id', 'parcel_building_footprint', 'lob_addr1', 'lob_lat', 'lob_lon', 'lob_zipcode', 'f_lat', 'f_lon', 'f_city', 'f_addr1']]"
   ]
  },
  {
   "cell_type": "code",
   "execution_count": null,
   "id": "d963ffe8-5d49-435f-8641-25900df7c9cc",
   "metadata": {},
   "outputs": [],
   "source": []
  },
  {
   "cell_type": "markdown",
   "id": "4aad3f5f-94d9-4dd3-b013-52709b149c65",
   "metadata": {},
   "source": [
    "### EXPLORE ZIP CODE in DF LOCATIONS"
   ]
  },
  {
   "cell_type": "code",
   "execution_count": null,
   "id": "b52bff28-78ae-49b4-bf37-2a12f7e47f4f",
   "metadata": {},
   "outputs": [],
   "source": [
    "duckdb.query(\"\"\"\n",
    "             WITH tmp AS (SELECT LEN(f_ziploc) as len FROM ms_hinds_locations)\n",
    "             SELECT len, COUNT(1) as num_records\n",
    "             FROM tmp\n",
    "             GROUP BY len\n",
    "             \"\"\").to_df()\n",
    "# If raw coords are not available, f_ziploc = “28” (Mississippi statefips)\n",
    "# So Mississippi don't exists at the monment \n",
    "# TODO: handle this later on"
   ]
  },
  {
   "cell_type": "code",
   "execution_count": null,
   "id": "1703310b-0ff4-4366-8ea5-1113b83698d2",
   "metadata": {},
   "outputs": [],
   "source": [
    "duckdb.query(\"\"\"\n",
    "             WITH tmp AS (SELECT LEN(f_ziploc) as len FROM ms_hinds_locations_xlsx)\n",
    "             SELECT len, COUNT(1) as num_records\n",
    "             FROM tmp\n",
    "             GROUP BY len\n",
    "             \"\"\").to_df()"
   ]
  },
  {
   "cell_type": "markdown",
   "id": "f60889f6-8501-45b7-9740-f8ce7d8ba04c",
   "metadata": {},
   "source": [
    "## EDA of Datasets"
   ]
  },
  {
   "cell_type": "code",
   "execution_count": null,
   "id": "a14d8c77-7a5c-4c00-9ccd-fd76dd199084",
   "metadata": {},
   "outputs": [],
   "source": [
    "# !pip install dtale\n",
    "import dtale\n",
    "# d = dtale.show(ms_hinds_locations)\n",
    "d = dtale.show(ms_hinds_locations)\n",
    "d.open_browser()"
   ]
  },
  {
   "cell_type": "code",
   "execution_count": null,
   "id": "bd520fae-1f56-417b-9883-eea770ae2c0f",
   "metadata": {},
   "outputs": [],
   "source": [
    "# !pip install dtale\n",
    "import dtale\n",
    "# d = dtale.show(ms_hinds_locations)\n",
    "d = dtale.show(df_ms_buildings)\n",
    "d.open_browser()"
   ]
  },
  {
   "cell_type": "code",
   "execution_count": null,
   "id": "ed696ceb-e5e9-4488-b370-fa97c5ac7dad",
   "metadata": {},
   "outputs": [],
   "source": [
    "# !pip install dtale\n",
    "import dtale\n",
    "# d = dtale.show(ms_hinds_locations)\n",
    "d = dtale.show(g_parcels)\n",
    "d.open_browser()"
   ]
  },
  {
   "cell_type": "code",
   "execution_count": null,
   "id": "14c2217e-be08-4ff9-a66e-d5835cd3de81",
   "metadata": {},
   "outputs": [],
   "source": []
  },
  {
   "cell_type": "code",
   "execution_count": null,
   "id": "e648b259-05e1-4ae3-b3ec-1321c55409b1",
   "metadata": {},
   "outputs": [],
   "source": [
    "ms_hinds_locations[['f_lat', 'f_lon', 'f_city', 'f_addr1', 'f_ziploc']].head(20)"
   ]
  },
  {
   "cell_type": "markdown",
   "id": "f99a89e7-6a86-4186-b6be-8b49837841cf",
   "metadata": {},
   "source": [
    "## BASIC CLEANING OF DATASETS"
   ]
  },
  {
   "cell_type": "code",
   "execution_count": null,
   "id": "863986a8-8496-477d-bd7a-b741f70945be",
   "metadata": {},
   "outputs": [],
   "source": [
    "# Basic Cleaning \n",
    "\n",
    "# Remove Hidden Characters in f_city\n",
    "s = ms_hinds_locations['f_city']\n",
    "printable = r'\\w \\!\\\"#\\$%&\\'\\(\\)\\*\\+,\\-\\./:;<»«؛،ـ\\=>\\?@\\[\\\\\\]\\^_\\`\\{\\|\\}~'\n",
    "s = s.str.replacer(r'[^{}]+'.format(printable), '')\n",
    "# Replace any White spaces\n",
    "s = s.str.replace(r'[ ]+', '')\n",
    "# Convert to lower case\n",
    "s = s.str.lower()\n",
    "\n",
    "\n",
    "# f_addr1 Column\n",
    "# Remove Hidden Characters in in f_addr1\n",
    "s = df['f_addr1']\n",
    "printable = r'\\w \\!\\\"#\\$%&\\'\\(\\)\\*\\+,\\-\\./:;<»«؛،ـ\\=>\\?@\\[\\\\\\]\\^_\\`\\{\\|\\}~'\n",
    "s = s.str.replacer(r'[^{}]+'.format(printable), '')\n",
    "import unicodedata\n",
    "# Normalize accent characters with normal characters Ascii utf-8 values \n",
    "s = s.apply(\n",
    "\tlambda x: unicodedata.normalize('NFKD', u'{}'.format(x)).encode('ASCII', 'ignore').decode('utf-8')\n",
    ")"
   ]
  },
  {
   "cell_type": "code",
   "execution_count": null,
   "id": "8fbfc6c4-5b6f-41e6-b4fe-d1f95c8a55ad",
   "metadata": {},
   "outputs": [],
   "source": [
    "ms_hinds_locations['f_ziploc']"
   ]
  },
  {
   "cell_type": "code",
   "execution_count": null,
   "id": "836ea60e-509d-4d5e-bb21-f082bcedbb59",
   "metadata": {},
   "outputs": [],
   "source": [
    "from uszipcode import SearchEngine\n",
    "engine = SearchEngine(simple_or_comprehensive=SearchEngine.SimpleOrComprehensiveArgEnum.comprehensive)\n",
    "zipcode = engine.by_zipcode(60007)\n",
    "# zipcode.polygon\n",
    "# help(zipcode)"
   ]
  },
  {
   "cell_type": "code",
   "execution_count": null,
   "id": "8388c4f7-5c9f-4a12-a591-a17c479b1b6d",
   "metadata": {},
   "outputs": [],
   "source": [
    "# to install: pip install duckdb\n",
    "# mydf = pd.DataFrame({'a' : [1, 2, 3]})\n",
    "# print(duckdb.query(\"\"\"\n",
    "#         SELECT CASE WHEN LEN(f_ziploc) = 5 THEN CAST(f_ziploc AS INT)\n",
    "#             END AS f_ziploc \n",
    "#         FROM ms_hinds_locations\"\"\").to_df())\n",
    "# zipcode.to_json()"
   ]
  },
  {
   "cell_type": "code",
   "execution_count": null,
   "id": "7461d184-0ff5-47d1-9ed8-079ee455308d",
   "metadata": {},
   "outputs": [],
   "source": [
    "# !pip install dtale\n",
    "import dtale\n",
    "# d = dtale.show(ms_hinds_locations)\n",
    "d = dtale.show(ms_hinds_locations[['source', 'parcel_id', 'parcel_building_footprint', 'lob_addr1', 'lob_lat', 'lob_lon', 'lob_zipcode', 'f_lat', 'f_lon', 'f_city', 'f_addr1', 'f_ziploc', 'f_unit']])\n",
    "# d.open_browser()"
   ]
  },
  {
   "cell_type": "markdown",
   "id": "0b1bdbe9-d245-4a67-a1c8-48160256c95b",
   "metadata": {},
   "source": [
    "### NEAREST POINTS IN GEO \n",
    "\n",
    "The nearest_points() function in shapely.ops calculates the nearest points in a pair of geometries.\n",
    "\n",
    "READ MORE at https://shapely.readthedocs.io/en/stable/manual.html"
   ]
  },
  {
   "cell_type": "code",
   "execution_count": null,
   "id": "5dfc6452-7db2-46be-acb1-39628768dde6",
   "metadata": {},
   "outputs": [],
   "source": [
    "from shapely.ops import nearest_points\n",
    "\n",
    "def get_nearest_values(row, other_gdf, point_column='geometry', value_column=\"geometry\"):\n",
    "    \"\"\"Find the nearest point and return the corresponding value from specified value column.\"\"\"\n",
    "    \n",
    "    # Create an union of the other GeoDataFrame's geometries:\n",
    "    other_points = other_gdf[\"geometry\"].unary_union\n",
    "    \n",
    "    # Find the nearest points\n",
    "    nearest_geoms = nearest_points(row[point_column], other_points)\n",
    "    \n",
    "    # Get corresponding values from the other df\n",
    "    nearest_data = other_gdf.loc[other_gdf[\"geometry\"] == nearest_geoms[1]]\n",
    "    \n",
    "    nearest_value = nearest_data[value_column].values[0]\n",
    "    \n",
    "    return nearest_value"
   ]
  },
  {
   "cell_type": "code",
   "execution_count": null,
   "id": "1be86a94-3f1f-4fde-b2b4-344c62bedf22",
   "metadata": {},
   "outputs": [],
   "source": [
    "ms_hinds_locations.head(1)"
   ]
  },
  {
   "cell_type": "code",
   "execution_count": null,
   "id": "175db43f-e9fd-4c61-a8ca-ad80415b6041",
   "metadata": {},
   "outputs": [],
   "source": [
    "ms_hinds_locations.columns"
   ]
  },
  {
   "cell_type": "code",
   "execution_count": null,
   "id": "c987ac35-3cc5-4d98-a1ec-809db35b0913",
   "metadata": {},
   "outputs": [],
   "source": []
  },
  {
   "cell_type": "code",
   "execution_count": null,
   "id": "14330f2d-08e8-4cfc-b6a4-12f42b0df40e",
   "metadata": {},
   "outputs": [],
   "source": [
    "df_locations = ms_hinds_locations\n",
    "df_locations.crs = 'epsg:4326'\n",
    "df_locations = df_locations.to_crs({'init' :'epsg:4326'})\n",
    "\n",
    "gdf_locations = gpd.GeoDataFrame(\n",
    "    df_locations, geometry=gpd.points_from_xy(df_locations.f_lat, df_locations.f_lon, crs=\"EPSG:4326\")\n",
    ")\n",
    "# df_locations = ms_hinds_locations[['parcel_id', 'f_lat', 'f_lon', 'f_city', 'f_addr1', 'f_ziploc']]"
   ]
  },
  {
   "cell_type": "code",
   "execution_count": null,
   "id": "8da46781-267d-456a-91ca-a10b5930cf56",
   "metadata": {},
   "outputs": [],
   "source": [
    "df_ms_buildings = df_ms_buildings.to_crs(crs={'init': 'epsg:4326'})\n",
    "df_ms_buildings['centroid'] = df_ms_buildings.centroid"
   ]
  },
  {
   "cell_type": "code",
   "execution_count": null,
   "id": "63953781-fe14-4ca6-a299-a22cb2929cc9",
   "metadata": {},
   "outputs": [],
   "source": [
    "unary_union = gdf_locations.unary_union\n",
    "# print(unary_union)"
   ]
  },
  {
   "cell_type": "code",
   "execution_count": null,
   "id": "05c9f12d-105e-4658-a2b4-270ea1bf07c3",
   "metadata": {},
   "outputs": [],
   "source": [
    "gdf_locations.columns"
   ]
  },
  {
   "cell_type": "code",
   "execution_count": null,
   "id": "0a1a0864-b76b-4572-b2d5-9403b41f817c",
   "metadata": {},
   "outputs": [],
   "source": [
    "# unary_union = df_ms_buildings[['ed_bld_uuid', 'geometry']].unary_union\n",
    "# print(unary_union)"
   ]
  },
  {
   "cell_type": "code",
   "execution_count": null,
   "id": "c0dce988-41d8-4797-88ee-92b9384cefc9",
   "metadata": {},
   "outputs": [],
   "source": [
    "df_locations[\"nearest_roof\"] = df_ms_buildings.apply(get_nearest_values, other_gdf=gdf_locations, point_column=\"centroid\", axis=1)"
   ]
  },
  {
   "cell_type": "code",
   "execution_count": null,
   "id": "58f6a8b0-93f7-4960-9d1b-42e43e1880f5",
   "metadata": {},
   "outputs": [],
   "source": [
    "df_locations"
   ]
  },
  {
   "cell_type": "code",
   "execution_count": null,
   "id": "d70c4eb6-9f2d-4092-a881-11bf18fe552a",
   "metadata": {},
   "outputs": [],
   "source": [
    "# Shapely’s nearest_points -function provides a nice and easy way of conducting the nearest neighbor analysis, \n",
    "# it can be quite slow. Using it also requires taking the unary union of the point dataset where all the Points \n",
    "# are merged into a single layer. This can be a really memory hungry and slow operation,\n",
    "# that can cause problems with large point datasets"
   ]
  },
  {
   "cell_type": "code",
   "execution_count": null,
   "id": "bfd92da7-132d-410a-b37a-3ea1fe0e98ef",
   "metadata": {},
   "outputs": [],
   "source": []
  },
  {
   "cell_type": "markdown",
   "id": "c16e7856-fd99-44ab-93ed-8e47f1a49848",
   "metadata": {},
   "source": [
    "### FUTHER EXPLORATION OF DATASETS"
   ]
  },
  {
   "cell_type": "code",
   "execution_count": 8,
   "id": "0baa46be-4206-4181-b8ac-74f6cf2b340b",
   "metadata": {},
   "outputs": [],
   "source": [
    "# # !pip install sweetviz\n",
    "# #importing sweetviz and visualizing our data\n",
    "# import sweetviz as sv\n",
    "# sweet_report = sv.analyze(ms_hinds_locations)\n",
    "# # sweet_report.show_html('sweetviz_report.html')"
   ]
  },
  {
   "cell_type": "code",
   "execution_count": null,
   "id": "a4ab9aea-2131-4b92-ac0f-e91c8a9300b8",
   "metadata": {},
   "outputs": [],
   "source": [
    "# !pip install openpyxl"
   ]
  },
  {
   "cell_type": "code",
   "execution_count": null,
   "id": "a67bfabf-e41b-4404-af38-8cfb70621669",
   "metadata": {},
   "outputs": [],
   "source": [
    "# from keplergl import KeplerGl\n",
    "# map_1 = KeplerGl(data={\"data_1\": ms_hinds_locations[[\"f_lat\", \"f_lon\"]]})\n",
    "# map_1"
   ]
  },
  {
   "cell_type": "code",
   "execution_count": null,
   "id": "4c5dfe5b-7da6-43e2-a9b0-cdcf14f71683",
   "metadata": {},
   "outputs": [],
   "source": [
    "ms_hinds_locations.equals(ms_hinds_locations_xlsx)"
   ]
  },
  {
   "cell_type": "code",
   "execution_count": null,
   "id": "f894fd43-7a81-4eb7-a528-10b591b9cf66",
   "metadata": {},
   "outputs": [],
   "source": [
    "ms_hinds_locations_xlsx.describe()"
   ]
  },
  {
   "cell_type": "code",
   "execution_count": null,
   "id": "a618541b-1405-4016-b896-8cbe84566717",
   "metadata": {},
   "outputs": [],
   "source": [
    "ms_hinds_locations.equals(ms_hinds_locations_xlsx)\n",
    "# pd.concat([ms_hinds_locations,ms_hinds_locations_xlsx]).drop_duplicates(keep=False)"
   ]
  },
  {
   "cell_type": "code",
   "execution_count": null,
   "id": "363bbb34-c334-4408-beb8-7b700f97151a",
   "metadata": {},
   "outputs": [],
   "source": [
    "g_parcels.head(2)\n",
    "# df = geopandas.read_file(url)"
   ]
  },
  {
   "cell_type": "code",
   "execution_count": null,
   "id": "306be977-4394-4f6e-b857-a0f09effca3b",
   "metadata": {},
   "outputs": [],
   "source": [
    "g_parcels['geometry'][0]"
   ]
  },
  {
   "cell_type": "code",
   "execution_count": null,
   "id": "c47617d9-4680-49a4-94b6-852d0937648f",
   "metadata": {},
   "outputs": [],
   "source": [
    "ms_hinds_buildings = gpd.read_file(\"data/ms_hinds_buildings.geojson/ms_hinds_buildings_join_table.csv\")\n",
    "ms_hinds_buildings = gpd.read_file(\"data/ms_hinds_buildings.geojson/ms_hinds_buildings_join_table.csv\")\n",
    "ms_hinds_buildings.head(2)"
   ]
  },
  {
   "cell_type": "code",
   "execution_count": null,
   "id": "a6ab1d23-a0c0-42e4-89b1-bd8af850f450",
   "metadata": {},
   "outputs": [],
   "source": [
    "d = dtale.show(ms_hinds_buildings)\n",
    "d.open_browser()"
   ]
  },
  {
   "cell_type": "code",
   "execution_count": null,
   "id": "881b9037-fc28-434a-841d-c786881b1245",
   "metadata": {},
   "outputs": [],
   "source": [
    "dfcsv.head()"
   ]
  },
  {
   "cell_type": "code",
   "execution_count": null,
   "id": "74c53b8c-2a31-4932-b827-769483192dda",
   "metadata": {},
   "outputs": [],
   "source": [
    "dfjson.head()"
   ]
  },
  {
   "cell_type": "code",
   "execution_count": null,
   "id": "fdc9932c-7b93-4073-a203-753cd37923fd",
   "metadata": {},
   "outputs": [],
   "source": [
    "import zipfile\n",
    "zf = zipfile.ZipFile(\"data/ms_hinds_buildings.geojson.zip\") \n",
    "# df = pd.read_csv(zf)\n",
    "# dfcsv = gpd.read_file(\"data/ms_hinds_buildings.geojson/ms_hinds_buildings_join_table.csv\")\n",
    "# dfjson = gpd.read_file(\"data/ms_hinds_buildings.geojson/ms_hinds_buildings.json\")\n",
    "\n",
    "ms_hinds_buildings = [gpd.read_file(zf.open(text_file.filename)) for text_file in zf.infolist() if text_file.filename.endswith('.json')]\n",
    "df_ms_buildings = ms_hinds_buildings_df[0]"
   ]
  },
  {
   "cell_type": "code",
   "execution_count": null,
   "id": "fbd168d4-8dd2-4143-ab6a-341de22df6e5",
   "metadata": {},
   "outputs": [],
   "source": [
    "df_ms_buildings.head(2)"
   ]
  },
  {
   "cell_type": "code",
   "execution_count": null,
   "id": "98f212c0-c295-49c9-86f7-8ab70aebb73d",
   "metadata": {},
   "outputs": [],
   "source": [
    "import dtale\n",
    "d = dtale.show(df_ms_buildings)\n",
    "d.open_browser()"
   ]
  },
  {
   "cell_type": "code",
   "execution_count": null,
   "id": "9d2dea81-b9b7-4aa6-aff5-715b4d15a683",
   "metadata": {},
   "outputs": [],
   "source": [
    "print(df_ms_buildings['geometry'][0])"
   ]
  },
  {
   "cell_type": "code",
   "execution_count": null,
   "id": "0d9dbd45-d6d3-4898-8dd5-52df41c4f4ee",
   "metadata": {},
   "outputs": [],
   "source": [
    "df_ms_buildings['geometry'][0]"
   ]
  },
  {
   "cell_type": "code",
   "execution_count": null,
   "id": "67f55f96-e909-4084-9ecc-5030399d1201",
   "metadata": {},
   "outputs": [],
   "source": [
    "# !pip install gnssmapper\n",
    "# !pip install unlzw3"
   ]
  },
  {
   "cell_type": "code",
   "execution_count": null,
   "id": "9cb90c98-b002-44d4-8de7-a9860a040dfb",
   "metadata": {},
   "outputs": [],
   "source": [
    "# import geopandas as gpd\n",
    "# import pandas as pd\n",
    "# import gnssmapper as gm\n",
    "\n",
    "# pilot_log = gpd.read_file(\"zip://./pilot_study.geojson.zip\", driver=\"GeoJSON\")\n",
    "# pilot_log.time = pilot_log.time.astype('datetime64')\n",
    "# pilot_log.svid = pilot_log.svid.astype('string')"
   ]
  },
  {
   "cell_type": "code",
   "execution_count": null,
   "id": "bd1d4158-44f6-43d2-88c6-74dc2da46326",
   "metadata": {},
   "outputs": [],
   "source": [
    "# import geopandas as gpd\n",
    "# import pandas as pd\n",
    "# import gnssmapper as gm\n",
    "\n",
    "# ms_hinds_buildings = gpd.read_file(\"zip://./data/ms_hinds_buildings.geojson.zip\", driver=\"GeoJSON\")"
   ]
  },
  {
   "cell_type": "code",
   "execution_count": null,
   "id": "0773ec74-a84e-4e70-8da0-5e3720a5667b",
   "metadata": {},
   "outputs": [],
   "source": [
    "# zipfile = \"zip:///Users/chethan.umesha/Work/personal/autoetl/geotl/data/ms_hinds_buildings.geojson.zip\"\n",
    "# # gpd.read_file(zipfile)\n",
    "# ms_hinds_buildings = gpd.read_file(zipfile, driver=\"GeoJSON\")"
   ]
  },
  {
   "cell_type": "code",
   "execution_count": null,
   "id": "f8b4d2a8-cf5c-455f-98be-5bad40cb0ba2",
   "metadata": {},
   "outputs": [],
   "source": [
    "# !pip install pyogrio"
   ]
  },
  {
   "cell_type": "code",
   "execution_count": null,
   "id": "66b00d62-fdf3-44a9-9ad3-cdc64dd5d9f0",
   "metadata": {},
   "outputs": [],
   "source": [
    "# os.environ['GDAL_ENABLE_DEPRECATED_DRIVER_GTM'] = 'NO'\n",
    "# g_parcels = gpd.read_file(\"data/ms_hinds_buildings.geojson.zip\")"
   ]
  },
  {
   "cell_type": "code",
   "execution_count": null,
   "id": "2bb52329-6265-4bc4-9416-123d5e440a97",
   "metadata": {},
   "outputs": [],
   "source": [
    "# g_parcels.head()"
   ]
  }
 ],
 "metadata": {
  "kernelspec": {
   "display_name": "Python 3 (ipykernel)",
   "language": "python",
   "name": "python3"
  },
  "language_info": {
   "codemirror_mode": {
    "name": "ipython",
    "version": 3
   },
   "file_extension": ".py",
   "mimetype": "text/x-python",
   "name": "python",
   "nbconvert_exporter": "python",
   "pygments_lexer": "ipython3",
   "version": "3.10.7"
  }
 },
 "nbformat": 4,
 "nbformat_minor": 5
}
