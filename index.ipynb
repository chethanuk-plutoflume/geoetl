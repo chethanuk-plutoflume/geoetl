{
 "cells": [
  {
   "cell_type": "code",
   "execution_count": 1,
   "id": "777110f7-abd0-43cd-b401-b5ff5f99ca2a",
   "metadata": {},
   "outputs": [],
   "source": [
    "import os\n",
    "os.environ['USE_PYGEOS'] = '0'\n",
    "import geopandas as gpd\n",
    "import pandas as pd\n",
    "import duckdb"
   ]
  },
  {
   "cell_type": "code",
   "execution_count": 3,
   "id": "6fbd249f-08e4-440f-8a3d-3a9771f9d25a",
   "metadata": {},
   "outputs": [
    {
     "name": "stdout",
     "output_type": "stream",
     "text": [
      "Index(['source', 'parcel_id', 'parcel_lat', 'parcel_lon',\n",
      "       'parcel_building_footprint', 'parcel_building_count', 'poi_lat',\n",
      "       'poi_lon', 'secondary_lat', 'secondary_lon', 'lob_addr1', 'lob_lat',\n",
      "       'lob_lon', 'lob_zipcode', 'f_ziploc', 'f_lat', 'f_lon', 'f_city',\n",
      "       'primary_loc_id', 'f_addr1', 'f_unit', 'geometry'],\n",
      "      dtype='object')\n"
     ]
    },
    {
     "data": {
      "text/html": [
       "<div>\n",
       "<style scoped>\n",
       "    .dataframe tbody tr th:only-of-type {\n",
       "        vertical-align: middle;\n",
       "    }\n",
       "\n",
       "    .dataframe tbody tr th {\n",
       "        vertical-align: top;\n",
       "    }\n",
       "\n",
       "    .dataframe thead th {\n",
       "        text-align: right;\n",
       "    }\n",
       "</style>\n",
       "<table border=\"1\" class=\"dataframe\">\n",
       "  <thead>\n",
       "    <tr style=\"text-align: right;\">\n",
       "      <th></th>\n",
       "      <th>source</th>\n",
       "      <th>parcel_id</th>\n",
       "      <th>parcel_lat</th>\n",
       "      <th>parcel_lon</th>\n",
       "      <th>parcel_building_footprint</th>\n",
       "      <th>parcel_building_count</th>\n",
       "      <th>poi_lat</th>\n",
       "      <th>poi_lon</th>\n",
       "      <th>secondary_lat</th>\n",
       "      <th>secondary_lon</th>\n",
       "      <th>...</th>\n",
       "      <th>lob_lon</th>\n",
       "      <th>lob_zipcode</th>\n",
       "      <th>f_ziploc</th>\n",
       "      <th>f_lat</th>\n",
       "      <th>f_lon</th>\n",
       "      <th>f_city</th>\n",
       "      <th>primary_loc_id</th>\n",
       "      <th>f_addr1</th>\n",
       "      <th>f_unit</th>\n",
       "      <th>geometry</th>\n",
       "    </tr>\n",
       "  </thead>\n",
       "  <tbody>\n",
       "    <tr>\n",
       "      <th>0</th>\n",
       "      <td>POI</td>\n",
       "      <td>None</td>\n",
       "      <td>nan</td>\n",
       "      <td>nan</td>\n",
       "      <td>None</td>\n",
       "      <td>None</td>\n",
       "      <td>32.364986</td>\n",
       "      <td>-90.145943</td>\n",
       "      <td>nan</td>\n",
       "      <td>nan</td>\n",
       "      <td>...</td>\n",
       "      <td>-90.14568</td>\n",
       "      <td>39211-5404</td>\n",
       "      <td>39211</td>\n",
       "      <td>32.365143</td>\n",
       "      <td>-90.14568</td>\n",
       "      <td>Jackson</td>\n",
       "      <td>4950@@OLD CANTON@RD@&amp;&amp;39211</td>\n",
       "      <td>4950 OLD CANTON RD</td>\n",
       "      <td>nan</td>\n",
       "      <td>None</td>\n",
       "    </tr>\n",
       "    <tr>\n",
       "      <th>1</th>\n",
       "      <td>POI</td>\n",
       "      <td>None</td>\n",
       "      <td>nan</td>\n",
       "      <td>nan</td>\n",
       "      <td>None</td>\n",
       "      <td>None</td>\n",
       "      <td>32.389834</td>\n",
       "      <td>-90.110479</td>\n",
       "      <td>nan</td>\n",
       "      <td>nan</td>\n",
       "      <td>...</td>\n",
       "      <td>-90.11048</td>\n",
       "      <td>39211-2441</td>\n",
       "      <td>39211</td>\n",
       "      <td>32.389835</td>\n",
       "      <td>-90.11048</td>\n",
       "      <td>Jackson</td>\n",
       "      <td>6300@@OLD CANTON@RD@&amp;&amp;39211</td>\n",
       "      <td>6300 OLD CANTON RD</td>\n",
       "      <td>nan</td>\n",
       "      <td>None</td>\n",
       "    </tr>\n",
       "  </tbody>\n",
       "</table>\n",
       "<p>2 rows × 22 columns</p>\n",
       "</div>"
      ],
      "text/plain": [
       "  source parcel_id parcel_lat parcel_lon parcel_building_footprint  \\\n",
       "0    POI      None        nan        nan                      None   \n",
       "1    POI      None        nan        nan                      None   \n",
       "\n",
       "  parcel_building_count    poi_lat     poi_lon secondary_lat secondary_lon  \\\n",
       "0                  None  32.364986  -90.145943           nan           nan   \n",
       "1                  None  32.389834  -90.110479           nan           nan   \n",
       "\n",
       "   ...    lob_lon lob_zipcode f_ziploc      f_lat      f_lon   f_city  \\\n",
       "0  ...  -90.14568  39211-5404    39211  32.365143  -90.14568  Jackson   \n",
       "1  ...  -90.11048  39211-2441    39211  32.389835  -90.11048  Jackson   \n",
       "\n",
       "                primary_loc_id              f_addr1 f_unit geometry  \n",
       "0  4950@@OLD CANTON@RD@&&39211  4950 OLD CANTON RD     nan     None  \n",
       "1  6300@@OLD CANTON@RD@&&39211  6300 OLD CANTON RD     nan     None  \n",
       "\n",
       "[2 rows x 22 columns]"
      ]
     },
     "execution_count": 3,
     "metadata": {},
     "output_type": "execute_result"
    }
   ],
   "source": [
    "# Data Source 1\n",
    "# CSV\n",
    "# ms_hinds_locations = pd.read_csv(\"data/ms_hinds_locations.csv\")\n",
    "ms_hinds_locations = gpd.read_file(\"../data/ms_hinds_locations.csv\")\n",
    "print(ms_hinds_locations.columns)\n",
    "\n",
    "ms_hinds_locations.head(2)"
   ]
  },
  {
   "cell_type": "code",
   "execution_count": 4,
   "id": "3dc8c96f-6977-4dcb-9290-f1e6f33bc59b",
   "metadata": {},
   "outputs": [],
   "source": [
    "# Data Source 4\n",
    "import zipfile\n",
    "zf = zipfile.ZipFile(\"../data/ms_hinds_buildings.geojson.zip\") \n",
    "# df = pd.read_csv(zf)\n",
    "# dfcsv = gpd.read_file(\"data/ms_hinds_buildings.geojson/ms_hinds_buildings_join_table.csv\")\n",
    "# dfjson = gpd.read_file(\"data/ms_hinds_buildings.geojson/ms_hinds_buildings.json\")\n",
    "\n",
    "ms_hinds_buildings = [gpd.read_file(zf.open(text_file.filename)) for text_file in zf.infolist() if text_file.filename.endswith('.json')]\n",
    "df_ms_buildings = ms_hinds_buildings[0]"
   ]
  },
  {
   "cell_type": "code",
   "execution_count": 5,
   "id": "a84555d0-e754-4381-806f-d0fc5243d5e8",
   "metadata": {},
   "outputs": [
    {
     "data": {
      "text/plain": [
       "156900"
      ]
     },
     "execution_count": 5,
     "metadata": {},
     "output_type": "execute_result"
    }
   ],
   "source": [
    "len(ms_hinds_locations)"
   ]
  },
  {
   "cell_type": "code",
   "execution_count": 8,
   "id": "0084863c-e1ac-49c2-8bfd-2778cfb93a79",
   "metadata": {},
   "outputs": [
    {
     "data": {
      "text/plain": [
       "136954"
      ]
     },
     "execution_count": 8,
     "metadata": {},
     "output_type": "execute_result"
    }
   ],
   "source": [
    "len(df_ms_buildings)"
   ]
  },
  {
   "cell_type": "code",
   "execution_count": 11,
   "id": "367ec99c-c7f7-4186-9189-b840b7db3006",
   "metadata": {},
   "outputs": [
    {
     "data": {
      "text/plain": [
       "RangeIndex(start=0, stop=156900, step=1)"
      ]
     },
     "execution_count": 11,
     "metadata": {},
     "output_type": "execute_result"
    }
   ],
   "source": [
    "ms_hinds_locations.index"
   ]
  },
  {
   "cell_type": "code",
   "execution_count": 12,
   "id": "d09c57ec-a14c-438f-990c-93295e3e2ba8",
   "metadata": {},
   "outputs": [
    {
     "data": {
      "text/plain": [
       "RangeIndex(start=0, stop=136954, step=1)"
      ]
     },
     "execution_count": 12,
     "metadata": {},
     "output_type": "execute_result"
    }
   ],
   "source": [
    "df_ms_buildings.index"
   ]
  },
  {
   "cell_type": "code",
   "execution_count": 13,
   "id": "b42a28c7-8e99-473f-a2b5-47c008c98b51",
   "metadata": {},
   "outputs": [
    {
     "data": {
      "text/plain": [
       "<geopandas.sindex.PyGEOSSTRTreeIndex at 0x13a3567d0>"
      ]
     },
     "execution_count": 13,
     "metadata": {},
     "output_type": "execute_result"
    }
   ],
   "source": [
    "ms_hinds_locations.sindex"
   ]
  },
  {
   "cell_type": "code",
   "execution_count": 16,
   "id": "b6a145c4-97d0-48aa-98a3-189bba474e4f",
   "metadata": {},
   "outputs": [
    {
     "data": {
      "text/plain": [
       "<geopandas.sindex.PyGEOSSTRTreeIndex at 0x139caeec0>"
      ]
     },
     "execution_count": 16,
     "metadata": {},
     "output_type": "execute_result"
    }
   ],
   "source": [
    "df_ms_buildings.sindex"
   ]
  },
  {
   "cell_type": "code",
   "execution_count": 53,
   "id": "bbbdaab6-638e-4ef9-a40e-615cd290442a",
   "metadata": {},
   "outputs": [
    {
     "data": {
      "text/plain": [
       "geopandas.array.GeometryArray"
      ]
     },
     "execution_count": 53,
     "metadata": {},
     "output_type": "execute_result"
    }
   ],
   "source": [
    "type(gpd.points_from_xy(x=[1, 0], y=[0, 1]))"
   ]
  },
  {
   "cell_type": "code",
   "execution_count": 55,
   "id": "6b7e5d86-fa8d-4463-b4bc-1551ee413bde",
   "metadata": {},
   "outputs": [
    {
     "data": {
      "text/plain": [
       "shapely.geometry.point.Point"
      ]
     },
     "execution_count": 55,
     "metadata": {},
     "output_type": "execute_result"
    }
   ],
   "source": [
    "type(gdf_locations['geometry'].loc[0])"
   ]
  },
  {
   "cell_type": "code",
   "execution_count": 17,
   "id": "2782a3f7-a56c-4820-9895-a19b997cdde5",
   "metadata": {},
   "outputs": [
    {
     "name": "stderr",
     "output_type": "stream",
     "text": [
      "/Users/chethan.umesha/Work/personal/autoetl/geotl/.venv/lib/python3.10/site-packages/pyproj/crs/crs.py:141: FutureWarning: '+init=<authority>:<code>' syntax is deprecated. '<authority>:<code>' is the preferred initialization method. When making the change, be mindful of axis order changes: https://pyproj4.github.io/pyproj/stable/gotchas.html#axis-order-changes-in-proj-6\n",
      "  in_crs_string = _prepare_from_proj_string(in_crs_string)\n"
     ]
    }
   ],
   "source": [
    "df_locations = ms_hinds_locations\n",
    "df_locations.crs = 'epsg:4326'\n",
    "df_locations = df_locations.to_crs({'init' :'epsg:4326'})\n",
    "\n",
    "# gdf_locations = gpd.GeoDataFrame(\n",
    "#     df_locations, geometry=gpd.points_from_xy(df_locations.f_lat, df_locations.f_lon, crs=\"EPSG:4326\")\n",
    "# )\n",
    "# df_locations = ms_hinds_locations[['parcel_id', 'f_lat', 'f_lon', 'f_city', 'f_addr1', 'f_ziploc']]\n"
   ]
  },
  {
   "cell_type": "code",
   "execution_count": 18,
   "id": "9c2c6dce-fc4d-425d-a4d7-c15f07e2fb91",
   "metadata": {},
   "outputs": [
    {
     "name": "stderr",
     "output_type": "stream",
     "text": [
      "/var/folders/rp/1ymdcv2s3193skqbjrqv1xmr0000gn/T/ipykernel_12616/3785462114.py:2: UserWarning: Geometry is in a geographic CRS. Results from 'centroid' are likely incorrect. Use 'GeoSeries.to_crs()' to re-project geometries to a projected CRS before this operation.\n",
      "\n",
      "  df_ms_buildings['centroid'] = df_ms_buildings.centroid\n"
     ]
    }
   ],
   "source": [
    "df_ms_buildings = df_ms_buildings.to_crs(crs={'init': 'epsg:4326'})\n",
    "df_ms_buildings['centroid'] = df_ms_buildings.centroid"
   ]
  },
  {
   "cell_type": "code",
   "execution_count": 32,
   "id": "79c58093-ed8e-4e46-a7d5-db4cbad53ae6",
   "metadata": {},
   "outputs": [
    {
     "name": "stdout",
     "output_type": "stream",
     "text": [
      "Index(['source', 'parcel_id', 'parcel_lat', 'parcel_lon',\n",
      "       'parcel_building_footprint', 'parcel_building_count', 'poi_lat',\n",
      "       'poi_lon', 'secondary_lat', 'secondary_lon', 'lob_addr1', 'lob_lat',\n",
      "       'lob_lon', 'lob_zipcode', 'f_ziploc', 'f_lat', 'f_lon', 'f_city',\n",
      "       'primary_loc_id', 'f_addr1', 'f_unit', 'geometry'],\n",
      "      dtype='object')\n"
     ]
    },
    {
     "data": {
      "text/html": [
       "<div>\n",
       "<style scoped>\n",
       "    .dataframe tbody tr th:only-of-type {\n",
       "        vertical-align: middle;\n",
       "    }\n",
       "\n",
       "    .dataframe tbody tr th {\n",
       "        vertical-align: top;\n",
       "    }\n",
       "\n",
       "    .dataframe thead th {\n",
       "        text-align: right;\n",
       "    }\n",
       "</style>\n",
       "<table border=\"1\" class=\"dataframe\">\n",
       "  <thead>\n",
       "    <tr style=\"text-align: right;\">\n",
       "      <th></th>\n",
       "      <th>source</th>\n",
       "      <th>parcel_id</th>\n",
       "      <th>parcel_lat</th>\n",
       "      <th>parcel_lon</th>\n",
       "      <th>parcel_building_footprint</th>\n",
       "      <th>parcel_building_count</th>\n",
       "      <th>poi_lat</th>\n",
       "      <th>poi_lon</th>\n",
       "      <th>secondary_lat</th>\n",
       "      <th>secondary_lon</th>\n",
       "      <th>...</th>\n",
       "      <th>lob_lon</th>\n",
       "      <th>lob_zipcode</th>\n",
       "      <th>f_ziploc</th>\n",
       "      <th>f_lat</th>\n",
       "      <th>f_lon</th>\n",
       "      <th>f_city</th>\n",
       "      <th>primary_loc_id</th>\n",
       "      <th>f_addr1</th>\n",
       "      <th>f_unit</th>\n",
       "      <th>geometry</th>\n",
       "    </tr>\n",
       "  </thead>\n",
       "  <tbody>\n",
       "    <tr>\n",
       "      <th>0</th>\n",
       "      <td>POI</td>\n",
       "      <td>None</td>\n",
       "      <td>nan</td>\n",
       "      <td>nan</td>\n",
       "      <td>None</td>\n",
       "      <td>None</td>\n",
       "      <td>32.364986</td>\n",
       "      <td>-90.145943</td>\n",
       "      <td>nan</td>\n",
       "      <td>nan</td>\n",
       "      <td>...</td>\n",
       "      <td>-90.14568</td>\n",
       "      <td>39211-5404</td>\n",
       "      <td>39211</td>\n",
       "      <td>32.365143</td>\n",
       "      <td>-90.14568</td>\n",
       "      <td>Jackson</td>\n",
       "      <td>4950@@OLD CANTON@RD@&amp;&amp;39211</td>\n",
       "      <td>4950 OLD CANTON RD</td>\n",
       "      <td>nan</td>\n",
       "      <td>POINT (32.36514 -90.14568)</td>\n",
       "    </tr>\n",
       "    <tr>\n",
       "      <th>1</th>\n",
       "      <td>POI</td>\n",
       "      <td>None</td>\n",
       "      <td>nan</td>\n",
       "      <td>nan</td>\n",
       "      <td>None</td>\n",
       "      <td>None</td>\n",
       "      <td>32.389834</td>\n",
       "      <td>-90.110479</td>\n",
       "      <td>nan</td>\n",
       "      <td>nan</td>\n",
       "      <td>...</td>\n",
       "      <td>-90.11048</td>\n",
       "      <td>39211-2441</td>\n",
       "      <td>39211</td>\n",
       "      <td>32.389835</td>\n",
       "      <td>-90.11048</td>\n",
       "      <td>Jackson</td>\n",
       "      <td>6300@@OLD CANTON@RD@&amp;&amp;39211</td>\n",
       "      <td>6300 OLD CANTON RD</td>\n",
       "      <td>nan</td>\n",
       "      <td>POINT (32.38983 -90.11048)</td>\n",
       "    </tr>\n",
       "  </tbody>\n",
       "</table>\n",
       "<p>2 rows × 22 columns</p>\n",
       "</div>"
      ],
      "text/plain": [
       "  source parcel_id parcel_lat parcel_lon parcel_building_footprint  \\\n",
       "0    POI      None        nan        nan                      None   \n",
       "1    POI      None        nan        nan                      None   \n",
       "\n",
       "  parcel_building_count    poi_lat     poi_lon secondary_lat secondary_lon  \\\n",
       "0                  None  32.364986  -90.145943           nan           nan   \n",
       "1                  None  32.389834  -90.110479           nan           nan   \n",
       "\n",
       "   ...    lob_lon lob_zipcode f_ziploc      f_lat      f_lon   f_city  \\\n",
       "0  ...  -90.14568  39211-5404    39211  32.365143  -90.14568  Jackson   \n",
       "1  ...  -90.11048  39211-2441    39211  32.389835  -90.11048  Jackson   \n",
       "\n",
       "                primary_loc_id              f_addr1 f_unit  \\\n",
       "0  4950@@OLD CANTON@RD@&&39211  4950 OLD CANTON RD     nan   \n",
       "1  6300@@OLD CANTON@RD@&&39211  6300 OLD CANTON RD     nan   \n",
       "\n",
       "                     geometry  \n",
       "0  POINT (32.36514 -90.14568)  \n",
       "1  POINT (32.38983 -90.11048)  \n",
       "\n",
       "[2 rows x 22 columns]"
      ]
     },
     "execution_count": 32,
     "metadata": {},
     "output_type": "execute_result"
    }
   ],
   "source": [
    "print(gdf_locations.columns)\n",
    "gdf_locations.head(2)"
   ]
  },
  {
   "cell_type": "code",
   "execution_count": 33,
   "id": "5a5830dc-fd34-4651-9dba-b738065e7953",
   "metadata": {},
   "outputs": [
    {
     "name": "stdout",
     "output_type": "stream",
     "text": [
      "Index(['ed_str_uuid', 'ed_bld_uuid', 'ed_geoid', 'ed_lat', 'ed_lon',\n",
      "       'ed_bldg_footprint_sqft', 'ed_source', 'ed_source_date', 'geometry',\n",
      "       'centroid'],\n",
      "      dtype='object')\n"
     ]
    },
    {
     "data": {
      "text/html": [
       "<div>\n",
       "<style scoped>\n",
       "    .dataframe tbody tr th:only-of-type {\n",
       "        vertical-align: middle;\n",
       "    }\n",
       "\n",
       "    .dataframe tbody tr th {\n",
       "        vertical-align: top;\n",
       "    }\n",
       "\n",
       "    .dataframe thead th {\n",
       "        text-align: right;\n",
       "    }\n",
       "</style>\n",
       "<table border=\"1\" class=\"dataframe\">\n",
       "  <thead>\n",
       "    <tr style=\"text-align: right;\">\n",
       "      <th></th>\n",
       "      <th>ed_str_uuid</th>\n",
       "      <th>ed_bld_uuid</th>\n",
       "      <th>ed_geoid</th>\n",
       "      <th>ed_lat</th>\n",
       "      <th>ed_lon</th>\n",
       "      <th>ed_bldg_footprint_sqft</th>\n",
       "      <th>ed_source</th>\n",
       "      <th>ed_source_date</th>\n",
       "      <th>geometry</th>\n",
       "      <th>centroid</th>\n",
       "    </tr>\n",
       "  </thead>\n",
       "  <tbody>\n",
       "    <tr>\n",
       "      <th>0</th>\n",
       "      <td>d4f432d1-b9b7-11ec-9de6-3417ebd2351c</td>\n",
       "      <td>69270684-beeb-11ec-9ed5-4439c4546725</td>\n",
       "      <td>28049</td>\n",
       "      <td>32.063243</td>\n",
       "      <td>-90.373405</td>\n",
       "      <td>1326.936366</td>\n",
       "      <td>Aerial Imagery</td>\n",
       "      <td>06/16/2020</td>\n",
       "      <td>MULTIPOLYGON (((-90.37332 32.06327, -90.37335 ...</td>\n",
       "      <td>POINT (-90.37340 32.06324)</td>\n",
       "    </tr>\n",
       "    <tr>\n",
       "      <th>1</th>\n",
       "      <td>63779344-b9b6-11ec-969a-3417ebd2351c</td>\n",
       "      <td>71d51494-bee9-11ec-8398-4439c4546725</td>\n",
       "      <td>28049</td>\n",
       "      <td>32.234298</td>\n",
       "      <td>-90.254389</td>\n",
       "      <td>1598.433061</td>\n",
       "      <td>Aerial Imagery</td>\n",
       "      <td>06/13/2020</td>\n",
       "      <td>MULTIPOLYGON (((-90.25432 32.23435, -90.25432 ...</td>\n",
       "      <td>POINT (-90.25439 32.23430)</td>\n",
       "    </tr>\n",
       "  </tbody>\n",
       "</table>\n",
       "</div>"
      ],
      "text/plain": [
       "                            ed_str_uuid                           ed_bld_uuid  \\\n",
       "0  d4f432d1-b9b7-11ec-9de6-3417ebd2351c  69270684-beeb-11ec-9ed5-4439c4546725   \n",
       "1  63779344-b9b6-11ec-969a-3417ebd2351c  71d51494-bee9-11ec-8398-4439c4546725   \n",
       "\n",
       "  ed_geoid     ed_lat     ed_lon  ed_bldg_footprint_sqft       ed_source  \\\n",
       "0    28049  32.063243 -90.373405             1326.936366  Aerial Imagery   \n",
       "1    28049  32.234298 -90.254389             1598.433061  Aerial Imagery   \n",
       "\n",
       "  ed_source_date                                           geometry  \\\n",
       "0     06/16/2020  MULTIPOLYGON (((-90.37332 32.06327, -90.37335 ...   \n",
       "1     06/13/2020  MULTIPOLYGON (((-90.25432 32.23435, -90.25432 ...   \n",
       "\n",
       "                     centroid  \n",
       "0  POINT (-90.37340 32.06324)  \n",
       "1  POINT (-90.25439 32.23430)  "
      ]
     },
     "execution_count": 33,
     "metadata": {},
     "output_type": "execute_result"
    }
   ],
   "source": [
    "print(df_ms_buildings.columns)\n",
    "df_ms_buildings.head(2)"
   ]
  },
  {
   "cell_type": "code",
   "execution_count": 67,
   "id": "fe504518-f782-478c-a9b8-c132ae70b86f",
   "metadata": {},
   "outputs": [
    {
     "data": {
      "image/svg+xml": [
       "<svg xmlns=\"http://www.w3.org/2000/svg\" xmlns:xlink=\"http://www.w3.org/1999/xlink\" width=\"100.0\" height=\"100.0\" viewBox=\"31.368567479963843 -91.11954676814048 2.0 2.0\" preserveAspectRatio=\"xMinYMin meet\"><g transform=\"matrix(1,0,0,-1,0,-180.23909353628096)\"><circle cx=\"32.36856747996384\" cy=\"-90.11954676814048\" r=\"0.06\" stroke=\"#555555\" stroke-width=\"0.02\" fill=\"#66cc99\" opacity=\"0.6\" /></g></svg>"
      ],
      "text/plain": [
       "<POINT (32.369 -90.12)>"
      ]
     },
     "execution_count": 67,
     "metadata": {},
     "output_type": "execute_result"
    }
   ],
   "source": []
  },
  {
   "cell_type": "code",
   "execution_count": 75,
   "id": "8ccf545a-2bdf-45c7-a6c8-71e9589a7c10",
   "metadata": {},
   "outputs": [
    {
     "data": {
      "image/svg+xml": [
       "<svg xmlns=\"http://www.w3.org/2000/svg\" xmlns:xlink=\"http://www.w3.org/1999/xlink\" width=\"100.0\" height=\"100.0\" viewBox=\"41.0 -88.99 2.0 2.0\" preserveAspectRatio=\"xMinYMin meet\"><g transform=\"matrix(1,0,0,-1,0,-175.98)\"><circle cx=\"42.0\" cy=\"-87.99\" r=\"0.06\" stroke=\"#555555\" stroke-width=\"0.02\" fill=\"#66cc99\" opacity=\"0.6\" /></g></svg>"
      ],
      "text/plain": [
       "<POINT (42 -87.99)>"
      ]
     },
     "execution_count": 75,
     "metadata": {},
     "output_type": "execute_result"
    }
   ],
   "source": [
    "\n",
    "# help(zipcode)"
   ]
  },
  {
   "cell_type": "code",
   "execution_count": 80,
   "id": "09e893c3-7fe7-48f6-9ae7-824b7adcf636",
   "metadata": {},
   "outputs": [
    {
     "data": {
      "text/plain": [
       "count     156900\n",
       "unique     73611\n",
       "top          nan\n",
       "freq        7718\n",
       "Name: f_lat, dtype: object"
      ]
     },
     "execution_count": 80,
     "metadata": {},
     "output_type": "execute_result"
    }
   ],
   "source": [
    "gdf_locations['f_lat'].describe()"
   ]
  },
  {
   "cell_type": "code",
   "execution_count": 108,
   "id": "036c2535-dd53-4e77-b6c2-6acdcc9fcbb3",
   "metadata": {},
   "outputs": [],
   "source": [
    "# Cleaning\n",
    "import h3\n",
    "from shapely.geometry import Point\n",
    "from uszipcode import SearchEngine\n",
    "import numpy as np\n",
    "\n",
    "engine = SearchEngine(simple_or_comprehensive=SearchEngine.SimpleOrComprehensiveArgEnum.comprehensive)\n",
    "\n",
    "def get_centroid(ziploc, lat, lng, lat_isnull, lng_isnull):\n",
    "    \n",
    "    def get_point_from_zip(code):\n",
    "        zipcode = engine.by_zipcode(code)\n",
    "        return Point(zipcode.lat, zipcode.lng)\n",
    "    \n",
    "    if ziploc == \"28\":\n",
    "        return get_point_from_zip(39762)\n",
    "    elif len(ziploc) == 15:\n",
    "        lat_lon = h3.h3_to_geo(ziploc)\n",
    "        return Point(lat_lon[0], lat_lon[1])\n",
    "    elif len(ziploc) == 5:\n",
    "        return get_point_from_zip(ziploc)\n",
    "    \n",
    "    return None\n",
    "\n",
    "def get_point(lat, lng):\n",
    "    return Point(float(lat), float(lng))\n",
    "\n",
    "gdf_locations['centroid'] = gdf_locations.apply(lambda x: get_centroid(x['f_ziploc']) if pd.isnull(x['f_lat']) or pd.isnull(x['f_lon']) else get_point(x['f_lat'], x['f_lon']), axis=1)"
   ]
  },
  {
   "cell_type": "code",
   "execution_count": 109,
   "id": "0284b5df-c5e0-4624-9bcb-4ab613ae8cd8",
   "metadata": {},
   "outputs": [
    {
     "data": {
      "text/html": [
       "<div>\n",
       "<style scoped>\n",
       "    .dataframe tbody tr th:only-of-type {\n",
       "        vertical-align: middle;\n",
       "    }\n",
       "\n",
       "    .dataframe tbody tr th {\n",
       "        vertical-align: top;\n",
       "    }\n",
       "\n",
       "    .dataframe thead th {\n",
       "        text-align: right;\n",
       "    }\n",
       "</style>\n",
       "<table border=\"1\" class=\"dataframe\">\n",
       "  <thead>\n",
       "    <tr style=\"text-align: right;\">\n",
       "      <th></th>\n",
       "      <th>source</th>\n",
       "      <th>parcel_id</th>\n",
       "      <th>parcel_lat</th>\n",
       "      <th>parcel_lon</th>\n",
       "      <th>parcel_building_footprint</th>\n",
       "      <th>parcel_building_count</th>\n",
       "      <th>poi_lat</th>\n",
       "      <th>poi_lon</th>\n",
       "      <th>secondary_lat</th>\n",
       "      <th>secondary_lon</th>\n",
       "      <th>...</th>\n",
       "      <th>f_lat</th>\n",
       "      <th>f_lon</th>\n",
       "      <th>f_city</th>\n",
       "      <th>primary_loc_id</th>\n",
       "      <th>f_addr1</th>\n",
       "      <th>f_unit</th>\n",
       "      <th>geometry</th>\n",
       "      <th>point</th>\n",
       "      <th>f_zip_latlng</th>\n",
       "      <th>centroid</th>\n",
       "    </tr>\n",
       "  </thead>\n",
       "  <tbody>\n",
       "    <tr>\n",
       "      <th>0</th>\n",
       "      <td>POI</td>\n",
       "      <td>None</td>\n",
       "      <td>nan</td>\n",
       "      <td>nan</td>\n",
       "      <td>None</td>\n",
       "      <td>None</td>\n",
       "      <td>32.364986</td>\n",
       "      <td>-90.145943</td>\n",
       "      <td>nan</td>\n",
       "      <td>nan</td>\n",
       "      <td>...</td>\n",
       "      <td>32.365143</td>\n",
       "      <td>-90.14568</td>\n",
       "      <td>Jackson</td>\n",
       "      <td>4950@@OLD CANTON@RD@&amp;&amp;39211</td>\n",
       "      <td>4950 OLD CANTON RD</td>\n",
       "      <td>nan</td>\n",
       "      <td>POINT (32.36514 -90.14568)</td>\n",
       "      <td>POINT (32.370 -90.120)</td>\n",
       "      <td>None</td>\n",
       "      <td>POINT (32.365 -90.146)</td>\n",
       "    </tr>\n",
       "    <tr>\n",
       "      <th>1</th>\n",
       "      <td>POI</td>\n",
       "      <td>None</td>\n",
       "      <td>nan</td>\n",
       "      <td>nan</td>\n",
       "      <td>None</td>\n",
       "      <td>None</td>\n",
       "      <td>32.389834</td>\n",
       "      <td>-90.110479</td>\n",
       "      <td>nan</td>\n",
       "      <td>nan</td>\n",
       "      <td>...</td>\n",
       "      <td>32.389835</td>\n",
       "      <td>-90.11048</td>\n",
       "      <td>Jackson</td>\n",
       "      <td>6300@@OLD CANTON@RD@&amp;&amp;39211</td>\n",
       "      <td>6300 OLD CANTON RD</td>\n",
       "      <td>nan</td>\n",
       "      <td>POINT (32.38983 -90.11048)</td>\n",
       "      <td>POINT (32.370 -90.120)</td>\n",
       "      <td>None</td>\n",
       "      <td>POINT (32.390 -90.110)</td>\n",
       "    </tr>\n",
       "  </tbody>\n",
       "</table>\n",
       "<p>2 rows × 25 columns</p>\n",
       "</div>"
      ],
      "text/plain": [
       "  source parcel_id parcel_lat parcel_lon parcel_building_footprint  \\\n",
       "0    POI      None        nan        nan                      None   \n",
       "1    POI      None        nan        nan                      None   \n",
       "\n",
       "  parcel_building_count    poi_lat     poi_lon secondary_lat secondary_lon  \\\n",
       "0                  None  32.364986  -90.145943           nan           nan   \n",
       "1                  None  32.389834  -90.110479           nan           nan   \n",
       "\n",
       "   ...      f_lat      f_lon   f_city               primary_loc_id  \\\n",
       "0  ...  32.365143  -90.14568  Jackson  4950@@OLD CANTON@RD@&&39211   \n",
       "1  ...  32.389835  -90.11048  Jackson  6300@@OLD CANTON@RD@&&39211   \n",
       "\n",
       "               f_addr1 f_unit                    geometry  \\\n",
       "0  4950 OLD CANTON RD     nan  POINT (32.36514 -90.14568)   \n",
       "1  6300 OLD CANTON RD     nan  POINT (32.38983 -90.11048)   \n",
       "\n",
       "                    point f_zip_latlng                centroid  \n",
       "0  POINT (32.370 -90.120)         None  POINT (32.365 -90.146)  \n",
       "1  POINT (32.370 -90.120)         None  POINT (32.390 -90.110)  \n",
       "\n",
       "[2 rows x 25 columns]"
      ]
     },
     "execution_count": 109,
     "metadata": {},
     "output_type": "execute_result"
    }
   ],
   "source": [
    "gdf_locations.head(2)"
   ]
  },
  {
   "cell_type": "code",
   "execution_count": 115,
   "id": "1ab58655-d5d4-4ed9-b296-cb3233c7bd31",
   "metadata": {},
   "outputs": [],
   "source": [
    "gdf_locations.isna().sum()"
   ]
  },
  {
   "cell_type": "code",
   "execution_count": 111,
   "id": "2b5da5c7-4f8b-4097-8db6-cb23fce807f3",
   "metadata": {},
   "outputs": [
    {
     "data": {
      "text/plain": [
       "count          156900\n",
       "unique          94971\n",
       "top       POINT EMPTY\n",
       "freq             7718\n",
       "Name: centroid, dtype: object"
      ]
     },
     "execution_count": 111,
     "metadata": {},
     "output_type": "execute_result"
    }
   ],
   "source": [
    "gdf_locations['centroid'].describe()"
   ]
  },
  {
   "cell_type": "code",
   "execution_count": 105,
   "id": "6acc46a1-19a2-4020-8049-7b1df096d603",
   "metadata": {},
   "outputs": [],
   "source": [
    "from sklearn.neighbors import BallTree\n",
    "import numpy as np\n",
    "\n",
    "def get_nearest(src_points, candidates, k_neighbors=1):\n",
    "    \"\"\"Find nearest neighbors for all source points from a set of candidate points\"\"\"\n",
    "\n",
    "    # Create tree from the candidate points\n",
    "    tree = BallTree(candidates, leaf_size=15, metric='haversine')\n",
    "\n",
    "    # Find closest points and distances\n",
    "    distances, indices = tree.query(src_points, k=k_neighbors)\n",
    "\n",
    "    # Transpose to get distances and indices into arrays\n",
    "    distances = distances.transpose()\n",
    "    indices = indices.transpose()\n",
    "\n",
    "    # Get closest indices and distances (i.e. array at index 0)\n",
    "    # note: for the second closest points, you would take index 1, etc.\n",
    "    closest = indices[0]\n",
    "    closest_dist = distances[0]\n",
    "\n",
    "    # Return indices and distances\n",
    "    return (closest, closest_dist)\n",
    "\n",
    "\n",
    "def nearest_neighbor(left_gdf, right_gdf, return_dist=False):\n",
    "    \"\"\"\n",
    "    For each point in left_gdf, find closest point in right GeoDataFrame and return them.\n",
    "    \n",
    "    NOTICE: Assumes that the input Points are in WGS84 projection (lat/lon).\n",
    "    \"\"\"\n",
    "    \n",
    "    left_geom_col = 'centroid'\n",
    "    right_geom_col = 'centroid' # right_gdf.geometry.name\n",
    "    \n",
    "    # Ensure that index in right gdf is formed of sequential numbers\n",
    "    right = right_gdf.copy().reset_index(drop=True)\n",
    "    \n",
    "    # Parse coordinates from points and insert them into a numpy array as RADIANS\n",
    "    # Notice: should be in Lat/Lon format \n",
    "    left_radians = np.array(left_gdf[left_geom_col].apply(lambda geom: (geom.y * np.pi / 180, geom.x * np.pi / 180)).to_list())\n",
    "    right_radians = np.array(right[right_geom_col].apply(lambda geom: (geom.y * np.pi / 180, geom.x * np.pi / 180)).to_list())\n",
    "    \n",
    "    # Find the nearest points\n",
    "    # -----------------------\n",
    "    # closest ==> index in right_gdf that corresponds to the closest point\n",
    "    # dist ==> distance between the nearest neighbors (in meters)\n",
    "    \n",
    "    closest, dist = get_nearest(src_points=left_radians, candidates=right_radians)\n",
    "\n",
    "    # Return points from right GeoDataFrame that are closest to points in left GeoDataFrame\n",
    "    closest_points = right.loc[closest]\n",
    "    \n",
    "    # Ensure that the index corresponds the one in left_gdf\n",
    "    closest_points = closest_points.reset_index(drop=True)\n",
    "    \n",
    "    # Add distance if requested \n",
    "    if return_dist:\n",
    "        # Convert to meters from radians\n",
    "        earth_radius = 6371000  # meters\n",
    "        closest_points['distance'] = dist * earth_radius\n",
    "        \n",
    "    return closest_points"
   ]
  },
  {
   "cell_type": "code",
   "execution_count": 106,
   "id": "cc4b3d1e-4833-425a-b6b2-8f4c822e4a0c",
   "metadata": {},
   "outputs": [],
   "source": [
    "# print(df_ms_buildings.centroid)"
   ]
  },
  {
   "cell_type": "code",
   "execution_count": null,
   "id": "b946695f-c923-454f-8f42-bf9ccbf969a7",
   "metadata": {},
   "outputs": [],
   "source": []
  },
  {
   "cell_type": "code",
   "execution_count": 131,
   "id": "01ac7b61-3270-487b-a37e-55da82d9dba7",
   "metadata": {},
   "outputs": [],
   "source": [
    "# df_ms_buildings.to_file(\"out/df_ms_buildings.geojson\", driver='GeoJSON')\n",
    "df_ms_buildings.to_csv(\"df_ms_buildings.csv\")"
   ]
  },
  {
   "cell_type": "code",
   "execution_count": 132,
   "id": "2a125a64-705f-41c0-9850-c50033b48c65",
   "metadata": {},
   "outputs": [
    {
     "ename": "NameError",
     "evalue": "name 'closest_stops' is not defined",
     "output_type": "error",
     "traceback": [
      "\u001b[0;31m---------------------------------------------------------------------------\u001b[0m",
      "\u001b[0;31mNameError\u001b[0m                                 Traceback (most recent call last)",
      "Cell \u001b[0;32mIn[132], line 1\u001b[0m\n\u001b[0;32m----> 1\u001b[0m \u001b[43mclosest_stops\u001b[49m\u001b[38;5;241m.\u001b[39mto_csv(\u001b[38;5;124m\"\u001b[39m\u001b[38;5;124mclosest_stops.csv\u001b[39m\u001b[38;5;124m\"\u001b[39m)\n",
      "\u001b[0;31mNameError\u001b[0m: name 'closest_stops' is not defined"
     ]
    }
   ],
   "source": [
    "closest_stops.to_csv(\"closest_stops.csv\")"
   ]
  },
  {
   "cell_type": "code",
   "execution_count": null,
   "id": "251a09ae-c41f-4563-904d-cb914610aa20",
   "metadata": {},
   "outputs": [],
   "source": []
  },
  {
   "cell_type": "code",
   "execution_count": 133,
   "id": "81756955-e159-4fb9-ba08-2d61cbf9b7f1",
   "metadata": {},
   "outputs": [
    {
     "data": {
      "text/html": [
       "<div>\n",
       "<style scoped>\n",
       "    .dataframe tbody tr th:only-of-type {\n",
       "        vertical-align: middle;\n",
       "    }\n",
       "\n",
       "    .dataframe tbody tr th {\n",
       "        vertical-align: top;\n",
       "    }\n",
       "\n",
       "    .dataframe thead th {\n",
       "        text-align: right;\n",
       "    }\n",
       "</style>\n",
       "<table border=\"1\" class=\"dataframe\">\n",
       "  <thead>\n",
       "    <tr style=\"text-align: right;\">\n",
       "      <th></th>\n",
       "      <th>source</th>\n",
       "      <th>parcel_id</th>\n",
       "      <th>parcel_lat</th>\n",
       "      <th>parcel_lon</th>\n",
       "      <th>parcel_building_footprint</th>\n",
       "      <th>parcel_building_count</th>\n",
       "      <th>poi_lat</th>\n",
       "      <th>poi_lon</th>\n",
       "      <th>secondary_lat</th>\n",
       "      <th>secondary_lon</th>\n",
       "      <th>...</th>\n",
       "      <th>f_lon</th>\n",
       "      <th>f_city</th>\n",
       "      <th>primary_loc_id</th>\n",
       "      <th>f_addr1</th>\n",
       "      <th>f_unit</th>\n",
       "      <th>geometry</th>\n",
       "      <th>point</th>\n",
       "      <th>f_zip_latlng</th>\n",
       "      <th>centroid</th>\n",
       "      <th>distance</th>\n",
       "    </tr>\n",
       "  </thead>\n",
       "  <tbody>\n",
       "    <tr>\n",
       "      <th>0</th>\n",
       "      <td>POI</td>\n",
       "      <td>None</td>\n",
       "      <td>nan</td>\n",
       "      <td>nan</td>\n",
       "      <td>None</td>\n",
       "      <td>None</td>\n",
       "      <td>32.13374</td>\n",
       "      <td>-90.758922</td>\n",
       "      <td>nan</td>\n",
       "      <td>nan</td>\n",
       "      <td>...</td>\n",
       "      <td>-90.759415</td>\n",
       "      <td>Utica</td>\n",
       "      <td>18074@@OLD PORT GIBSON@RD@&amp;&amp;39175</td>\n",
       "      <td>18074 OLD PORT GIBSON RD</td>\n",
       "      <td>nan</td>\n",
       "      <td>POINT (32.13367 -90.75942)</td>\n",
       "      <td>POINT (32.100 -90.620)</td>\n",
       "      <td>None</td>\n",
       "      <td>POINT (32.134 -90.759)</td>\n",
       "      <td>1.352719e+07</td>\n",
       "    </tr>\n",
       "    <tr>\n",
       "      <th>1</th>\n",
       "      <td>POI</td>\n",
       "      <td>None</td>\n",
       "      <td>nan</td>\n",
       "      <td>nan</td>\n",
       "      <td>None</td>\n",
       "      <td>None</td>\n",
       "      <td>32.13374</td>\n",
       "      <td>-90.758922</td>\n",
       "      <td>nan</td>\n",
       "      <td>nan</td>\n",
       "      <td>...</td>\n",
       "      <td>-90.759415</td>\n",
       "      <td>Utica</td>\n",
       "      <td>18074@@OLD PORT GIBSON@RD@&amp;&amp;39175</td>\n",
       "      <td>18074 OLD PORT GIBSON RD</td>\n",
       "      <td>nan</td>\n",
       "      <td>POINT (32.13367 -90.75942)</td>\n",
       "      <td>POINT (32.100 -90.620)</td>\n",
       "      <td>None</td>\n",
       "      <td>POINT (32.134 -90.759)</td>\n",
       "      <td>1.354635e+07</td>\n",
       "    </tr>\n",
       "    <tr>\n",
       "      <th>2</th>\n",
       "      <td>POI</td>\n",
       "      <td>None</td>\n",
       "      <td>nan</td>\n",
       "      <td>nan</td>\n",
       "      <td>None</td>\n",
       "      <td>None</td>\n",
       "      <td>32.13374</td>\n",
       "      <td>-90.758922</td>\n",
       "      <td>nan</td>\n",
       "      <td>nan</td>\n",
       "      <td>...</td>\n",
       "      <td>-90.759415</td>\n",
       "      <td>Utica</td>\n",
       "      <td>18074@@OLD PORT GIBSON@RD@&amp;&amp;39175</td>\n",
       "      <td>18074 OLD PORT GIBSON RD</td>\n",
       "      <td>nan</td>\n",
       "      <td>POINT (32.13367 -90.75942)</td>\n",
       "      <td>POINT (32.100 -90.620)</td>\n",
       "      <td>None</td>\n",
       "      <td>POINT (32.134 -90.759)</td>\n",
       "      <td>1.352982e+07</td>\n",
       "    </tr>\n",
       "    <tr>\n",
       "      <th>3</th>\n",
       "      <td>POI</td>\n",
       "      <td>None</td>\n",
       "      <td>nan</td>\n",
       "      <td>nan</td>\n",
       "      <td>None</td>\n",
       "      <td>None</td>\n",
       "      <td>32.13374</td>\n",
       "      <td>-90.758922</td>\n",
       "      <td>nan</td>\n",
       "      <td>nan</td>\n",
       "      <td>...</td>\n",
       "      <td>-90.759415</td>\n",
       "      <td>Utica</td>\n",
       "      <td>18074@@OLD PORT GIBSON@RD@&amp;&amp;39175</td>\n",
       "      <td>18074 OLD PORT GIBSON RD</td>\n",
       "      <td>nan</td>\n",
       "      <td>POINT (32.13367 -90.75942)</td>\n",
       "      <td>POINT (32.100 -90.620)</td>\n",
       "      <td>None</td>\n",
       "      <td>POINT (32.134 -90.759)</td>\n",
       "      <td>1.352981e+07</td>\n",
       "    </tr>\n",
       "    <tr>\n",
       "      <th>4</th>\n",
       "      <td>POI</td>\n",
       "      <td>None</td>\n",
       "      <td>nan</td>\n",
       "      <td>nan</td>\n",
       "      <td>None</td>\n",
       "      <td>None</td>\n",
       "      <td>32.13374</td>\n",
       "      <td>-90.758922</td>\n",
       "      <td>nan</td>\n",
       "      <td>nan</td>\n",
       "      <td>...</td>\n",
       "      <td>-90.759415</td>\n",
       "      <td>Utica</td>\n",
       "      <td>18074@@OLD PORT GIBSON@RD@&amp;&amp;39175</td>\n",
       "      <td>18074 OLD PORT GIBSON RD</td>\n",
       "      <td>nan</td>\n",
       "      <td>POINT (32.13367 -90.75942)</td>\n",
       "      <td>POINT (32.100 -90.620)</td>\n",
       "      <td>None</td>\n",
       "      <td>POINT (32.134 -90.759)</td>\n",
       "      <td>1.352984e+07</td>\n",
       "    </tr>\n",
       "    <tr>\n",
       "      <th>...</th>\n",
       "      <td>...</td>\n",
       "      <td>...</td>\n",
       "      <td>...</td>\n",
       "      <td>...</td>\n",
       "      <td>...</td>\n",
       "      <td>...</td>\n",
       "      <td>...</td>\n",
       "      <td>...</td>\n",
       "      <td>...</td>\n",
       "      <td>...</td>\n",
       "      <td>...</td>\n",
       "      <td>...</td>\n",
       "      <td>...</td>\n",
       "      <td>...</td>\n",
       "      <td>...</td>\n",
       "      <td>...</td>\n",
       "      <td>...</td>\n",
       "      <td>...</td>\n",
       "      <td>...</td>\n",
       "      <td>...</td>\n",
       "      <td>...</td>\n",
       "    </tr>\n",
       "    <tr>\n",
       "      <th>136949</th>\n",
       "      <td>POI</td>\n",
       "      <td>None</td>\n",
       "      <td>nan</td>\n",
       "      <td>nan</td>\n",
       "      <td>None</td>\n",
       "      <td>None</td>\n",
       "      <td>32.13374</td>\n",
       "      <td>-90.758922</td>\n",
       "      <td>nan</td>\n",
       "      <td>nan</td>\n",
       "      <td>...</td>\n",
       "      <td>-90.759415</td>\n",
       "      <td>Utica</td>\n",
       "      <td>18074@@OLD PORT GIBSON@RD@&amp;&amp;39175</td>\n",
       "      <td>18074 OLD PORT GIBSON RD</td>\n",
       "      <td>nan</td>\n",
       "      <td>POINT (32.13367 -90.75942)</td>\n",
       "      <td>POINT (32.100 -90.620)</td>\n",
       "      <td>None</td>\n",
       "      <td>POINT (32.134 -90.759)</td>\n",
       "      <td>1.355425e+07</td>\n",
       "    </tr>\n",
       "    <tr>\n",
       "      <th>136950</th>\n",
       "      <td>POI</td>\n",
       "      <td>None</td>\n",
       "      <td>nan</td>\n",
       "      <td>nan</td>\n",
       "      <td>None</td>\n",
       "      <td>None</td>\n",
       "      <td>32.13374</td>\n",
       "      <td>-90.758922</td>\n",
       "      <td>nan</td>\n",
       "      <td>nan</td>\n",
       "      <td>...</td>\n",
       "      <td>-90.759415</td>\n",
       "      <td>Utica</td>\n",
       "      <td>18074@@OLD PORT GIBSON@RD@&amp;&amp;39175</td>\n",
       "      <td>18074 OLD PORT GIBSON RD</td>\n",
       "      <td>nan</td>\n",
       "      <td>POINT (32.13367 -90.75942)</td>\n",
       "      <td>POINT (32.100 -90.620)</td>\n",
       "      <td>None</td>\n",
       "      <td>POINT (32.134 -90.759)</td>\n",
       "      <td>1.355465e+07</td>\n",
       "    </tr>\n",
       "    <tr>\n",
       "      <th>136951</th>\n",
       "      <td>POI</td>\n",
       "      <td>None</td>\n",
       "      <td>nan</td>\n",
       "      <td>nan</td>\n",
       "      <td>None</td>\n",
       "      <td>None</td>\n",
       "      <td>32.13374</td>\n",
       "      <td>-90.758922</td>\n",
       "      <td>nan</td>\n",
       "      <td>nan</td>\n",
       "      <td>...</td>\n",
       "      <td>-90.759415</td>\n",
       "      <td>Utica</td>\n",
       "      <td>18074@@OLD PORT GIBSON@RD@&amp;&amp;39175</td>\n",
       "      <td>18074 OLD PORT GIBSON RD</td>\n",
       "      <td>nan</td>\n",
       "      <td>POINT (32.13367 -90.75942)</td>\n",
       "      <td>POINT (32.100 -90.620)</td>\n",
       "      <td>None</td>\n",
       "      <td>POINT (32.134 -90.759)</td>\n",
       "      <td>1.355961e+07</td>\n",
       "    </tr>\n",
       "    <tr>\n",
       "      <th>136952</th>\n",
       "      <td>POI</td>\n",
       "      <td>None</td>\n",
       "      <td>nan</td>\n",
       "      <td>nan</td>\n",
       "      <td>None</td>\n",
       "      <td>None</td>\n",
       "      <td>32.13374</td>\n",
       "      <td>-90.758922</td>\n",
       "      <td>nan</td>\n",
       "      <td>nan</td>\n",
       "      <td>...</td>\n",
       "      <td>-90.759415</td>\n",
       "      <td>Utica</td>\n",
       "      <td>18074@@OLD PORT GIBSON@RD@&amp;&amp;39175</td>\n",
       "      <td>18074 OLD PORT GIBSON RD</td>\n",
       "      <td>nan</td>\n",
       "      <td>POINT (32.13367 -90.75942)</td>\n",
       "      <td>POINT (32.100 -90.620)</td>\n",
       "      <td>None</td>\n",
       "      <td>POINT (32.134 -90.759)</td>\n",
       "      <td>1.354911e+07</td>\n",
       "    </tr>\n",
       "    <tr>\n",
       "      <th>136953</th>\n",
       "      <td>POI</td>\n",
       "      <td>None</td>\n",
       "      <td>nan</td>\n",
       "      <td>nan</td>\n",
       "      <td>None</td>\n",
       "      <td>None</td>\n",
       "      <td>32.13374</td>\n",
       "      <td>-90.758922</td>\n",
       "      <td>nan</td>\n",
       "      <td>nan</td>\n",
       "      <td>...</td>\n",
       "      <td>-90.759415</td>\n",
       "      <td>Utica</td>\n",
       "      <td>18074@@OLD PORT GIBSON@RD@&amp;&amp;39175</td>\n",
       "      <td>18074 OLD PORT GIBSON RD</td>\n",
       "      <td>nan</td>\n",
       "      <td>POINT (32.13367 -90.75942)</td>\n",
       "      <td>POINT (32.100 -90.620)</td>\n",
       "      <td>None</td>\n",
       "      <td>POINT (32.134 -90.759)</td>\n",
       "      <td>1.355574e+07</td>\n",
       "    </tr>\n",
       "  </tbody>\n",
       "</table>\n",
       "<p>136954 rows × 26 columns</p>\n",
       "</div>"
      ],
      "text/plain": [
       "       source parcel_id parcel_lat parcel_lon parcel_building_footprint  \\\n",
       "0         POI      None        nan        nan                      None   \n",
       "1         POI      None        nan        nan                      None   \n",
       "2         POI      None        nan        nan                      None   \n",
       "3         POI      None        nan        nan                      None   \n",
       "4         POI      None        nan        nan                      None   \n",
       "...       ...       ...        ...        ...                       ...   \n",
       "136949    POI      None        nan        nan                      None   \n",
       "136950    POI      None        nan        nan                      None   \n",
       "136951    POI      None        nan        nan                      None   \n",
       "136952    POI      None        nan        nan                      None   \n",
       "136953    POI      None        nan        nan                      None   \n",
       "\n",
       "       parcel_building_count   poi_lat     poi_lon secondary_lat  \\\n",
       "0                       None  32.13374  -90.758922           nan   \n",
       "1                       None  32.13374  -90.758922           nan   \n",
       "2                       None  32.13374  -90.758922           nan   \n",
       "3                       None  32.13374  -90.758922           nan   \n",
       "4                       None  32.13374  -90.758922           nan   \n",
       "...                      ...       ...         ...           ...   \n",
       "136949                  None  32.13374  -90.758922           nan   \n",
       "136950                  None  32.13374  -90.758922           nan   \n",
       "136951                  None  32.13374  -90.758922           nan   \n",
       "136952                  None  32.13374  -90.758922           nan   \n",
       "136953                  None  32.13374  -90.758922           nan   \n",
       "\n",
       "       secondary_lon  ...      f_lon f_city  \\\n",
       "0                nan  ... -90.759415  Utica   \n",
       "1                nan  ... -90.759415  Utica   \n",
       "2                nan  ... -90.759415  Utica   \n",
       "3                nan  ... -90.759415  Utica   \n",
       "4                nan  ... -90.759415  Utica   \n",
       "...              ...  ...        ...    ...   \n",
       "136949           nan  ... -90.759415  Utica   \n",
       "136950           nan  ... -90.759415  Utica   \n",
       "136951           nan  ... -90.759415  Utica   \n",
       "136952           nan  ... -90.759415  Utica   \n",
       "136953           nan  ... -90.759415  Utica   \n",
       "\n",
       "                           primary_loc_id                    f_addr1 f_unit  \\\n",
       "0       18074@@OLD PORT GIBSON@RD@&&39175  18074 OLD PORT GIBSON RD     nan   \n",
       "1       18074@@OLD PORT GIBSON@RD@&&39175  18074 OLD PORT GIBSON RD     nan   \n",
       "2       18074@@OLD PORT GIBSON@RD@&&39175  18074 OLD PORT GIBSON RD     nan   \n",
       "3       18074@@OLD PORT GIBSON@RD@&&39175  18074 OLD PORT GIBSON RD     nan   \n",
       "4       18074@@OLD PORT GIBSON@RD@&&39175  18074 OLD PORT GIBSON RD     nan   \n",
       "...                                   ...                        ...    ...   \n",
       "136949  18074@@OLD PORT GIBSON@RD@&&39175  18074 OLD PORT GIBSON RD     nan   \n",
       "136950  18074@@OLD PORT GIBSON@RD@&&39175  18074 OLD PORT GIBSON RD     nan   \n",
       "136951  18074@@OLD PORT GIBSON@RD@&&39175  18074 OLD PORT GIBSON RD     nan   \n",
       "136952  18074@@OLD PORT GIBSON@RD@&&39175  18074 OLD PORT GIBSON RD     nan   \n",
       "136953  18074@@OLD PORT GIBSON@RD@&&39175  18074 OLD PORT GIBSON RD     nan   \n",
       "\n",
       "                          geometry                   point f_zip_latlng  \\\n",
       "0       POINT (32.13367 -90.75942)  POINT (32.100 -90.620)         None   \n",
       "1       POINT (32.13367 -90.75942)  POINT (32.100 -90.620)         None   \n",
       "2       POINT (32.13367 -90.75942)  POINT (32.100 -90.620)         None   \n",
       "3       POINT (32.13367 -90.75942)  POINT (32.100 -90.620)         None   \n",
       "4       POINT (32.13367 -90.75942)  POINT (32.100 -90.620)         None   \n",
       "...                            ...                     ...          ...   \n",
       "136949  POINT (32.13367 -90.75942)  POINT (32.100 -90.620)         None   \n",
       "136950  POINT (32.13367 -90.75942)  POINT (32.100 -90.620)         None   \n",
       "136951  POINT (32.13367 -90.75942)  POINT (32.100 -90.620)         None   \n",
       "136952  POINT (32.13367 -90.75942)  POINT (32.100 -90.620)         None   \n",
       "136953  POINT (32.13367 -90.75942)  POINT (32.100 -90.620)         None   \n",
       "\n",
       "                      centroid      distance  \n",
       "0       POINT (32.134 -90.759)  1.352719e+07  \n",
       "1       POINT (32.134 -90.759)  1.354635e+07  \n",
       "2       POINT (32.134 -90.759)  1.352982e+07  \n",
       "3       POINT (32.134 -90.759)  1.352981e+07  \n",
       "4       POINT (32.134 -90.759)  1.352984e+07  \n",
       "...                        ...           ...  \n",
       "136949  POINT (32.134 -90.759)  1.355425e+07  \n",
       "136950  POINT (32.134 -90.759)  1.355465e+07  \n",
       "136951  POINT (32.134 -90.759)  1.355961e+07  \n",
       "136952  POINT (32.134 -90.759)  1.354911e+07  \n",
       "136953  POINT (32.134 -90.759)  1.355574e+07  \n",
       "\n",
       "[136954 rows x 26 columns]"
      ]
     },
     "execution_count": 133,
     "metadata": {},
     "output_type": "execute_result"
    }
   ],
   "source": [
    "# Find closest public transport stop for each building and get also the distance based on haversine distance \n",
    "# Note: haversine distance which is implemented here is a bit slower than using e.g. 'euclidean' metric \n",
    "# but useful as we get the distance between points in meters\n",
    "closest_stops = nearest_neighbor(df_ms_buildings, gdf_locations, return_dist=True)\n",
    "\n",
    "# And the result looks like ..\n",
    "closest_stops"
   ]
  },
  {
   "cell_type": "code",
   "execution_count": null,
   "id": "53ff66ea-b728-4cf3-9c21-ee73119e05b2",
   "metadata": {},
   "outputs": [],
   "source": []
  },
  {
   "cell_type": "code",
   "execution_count": null,
   "id": "8e2dd6e7-7ecd-4818-9351-14ab31841dae",
   "metadata": {},
   "outputs": [],
   "source": [
    "from keplergl import KeplerGl\n",
    "map_1 = KeplerGl(data={\"data_1\": ms_hinds_locations[[\"f_lat\", \"f_lon\"]]})\n",
    "map_1"
   ]
  }
 ],
 "metadata": {
  "kernelspec": {
   "display_name": "Python 3 (ipykernel)",
   "language": "python",
   "name": "python3"
  },
  "language_info": {
   "codemirror_mode": {
    "name": "ipython",
    "version": 3
   },
   "file_extension": ".py",
   "mimetype": "text/x-python",
   "name": "python",
   "nbconvert_exporter": "python",
   "pygments_lexer": "ipython3",
   "version": "3.10.7"
  }
 },
 "nbformat": 4,
 "nbformat_minor": 5
}
